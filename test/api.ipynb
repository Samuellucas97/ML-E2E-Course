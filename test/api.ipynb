{
  "cells": [
    {
      "cell_type": "code",
      "execution_count": 16,
      "metadata": {
        "trusted": true
      },
      "outputs": [],
      "source": [
        "import requests"
      ]
    },
    {
      "cell_type": "code",
      "execution_count": 17,
      "metadata": {},
      "outputs": [],
      "source": [
        "URL_API='http://127.0.0.1:5000'"
      ]
    },
    {
      "cell_type": "code",
      "execution_count": 18,
      "metadata": {},
      "outputs": [],
      "source": [
        "def requestPredictorAPI(area, rooms,bathroom, parking_space, floor, animal, furniture, hoa, property_tax):\n",
        "    query = requests.get(URL_API+f'/api/predictor/{area};{rooms};{bathroom};{parking_space};{floor};{animal};{furniture};{hoa};{property_tax}')\n",
        "    response = query.json()\n",
        "    print(f'Response: {response}')"
      ]
    },
    {
      "cell_type": "markdown",
      "metadata": {},
      "source": [
        "### Test Case 1"
      ]
    },
    {
      "cell_type": "code",
      "execution_count": 19,
      "metadata": {},
      "outputs": [],
      "source": [
        "area = 25\n",
        "rooms = 1\n",
        "bathroom = 1\n",
        "parking_space = 0\n",
        "floor = 0\n",
        "animal = 0\n",
        "furniture = 0\n",
        "hoa = 0 \n",
        "property_tax = 84"
      ]
    },
    {
      "cell_type": "code",
      "execution_count": 20,
      "metadata": {},
      "outputs": [
        {
          "name": "stdout",
          "output_type": "stream",
          "text": [
            "Response: {'Expected Rent': '[1534.81195442]'}\n"
          ]
        }
      ],
      "source": [
        "requestPredictorAPI(area, rooms,bathroom, parking_space, floor, animal, furniture, hoa, property_tax)"
      ]
    },
    {
      "cell_type": "markdown",
      "metadata": {},
      "source": [
        "### Test Case 2"
      ]
    },
    {
      "cell_type": "code",
      "execution_count": 21,
      "metadata": {},
      "outputs": [],
      "source": [
        "area = 480\n",
        "rooms = 4\n",
        "bathroom = 5\n",
        "parking_space = 3\n",
        "floor = 0\n",
        "animal = 1\n",
        "furniture = 0\n",
        "hoa = 0 \n",
        "property_tax = 742"
      ]
    },
    {
      "cell_type": "code",
      "execution_count": 22,
      "metadata": {},
      "outputs": [
        {
          "name": "stdout",
          "output_type": "stream",
          "text": [
            "Response: {'Expected Rent': '[8842.97801656]'}\n"
          ]
        }
      ],
      "source": [
        "requestPredictorAPI(area, rooms,bathroom, parking_space, floor, animal, furniture, hoa, property_tax)"
      ]
    }
  ],
  "metadata": {
    "kernelspec": {
      "display_name": "Python 3.8.10 64-bit",
      "language": "python",
      "name": "python3"
    },
    "language_info": {
      "codemirror_mode": {
        "name": "ipython",
        "version": 3
      },
      "file_extension": ".py",
      "mimetype": "text/x-python",
      "name": "python",
      "nbconvert_exporter": "python",
      "pygments_lexer": "ipython3",
      "version": "3.8.10"
    },
    "vscode": {
      "interpreter": {
        "hash": "916dbcbb3f70747c44a77c7bcd40155683ae19c65e1c03b4aa3499c5328201f1"
      }
    }
  },
  "nbformat": 4,
  "nbformat_minor": 4
}
