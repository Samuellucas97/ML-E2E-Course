{
  "cells": [
    {
      "cell_type": "markdown",
      "metadata": {
        "colab_type": "text",
        "id": "view-in-github"
      },
      "source": [
        "<a href=\"https://colab.research.google.com/github/Samuellucas97/ML-E2E-Course/blob/main/UdemyCourse.ipynb\" target=\"_parent\"><img src=\"https://colab.research.google.com/assets/colab-badge.svg\" alt=\"Open In Colab\"/></a>"
      ]
    },
    {
      "cell_type": "markdown",
      "metadata": {
        "id": "4w12r4O2ixxD"
      },
      "source": [
        "## **Importing libraries**\n",
        "\n",
        "\n"
      ]
    },
    {
      "cell_type": "code",
      "execution_count": 110,
      "metadata": {
        "id": "LoNdIjaUf7r5"
      },
      "outputs": [],
      "source": [
        "# Essential libs\n",
        "import pandas as pd\n",
        "import numpy as np\n",
        "\n",
        "# Graphical libs\n",
        "import matplotlib.pyplot as plt\n",
        "import seaborn as sns"
      ]
    },
    {
      "cell_type": "code",
      "execution_count": 111,
      "metadata": {
        "id": "0pvE4Yx9hyKR"
      },
      "outputs": [],
      "source": [
        "## -> IMPORTANT: This enable to ignore Pandas warnings as well the other warnings.\n",
        "import warnings\n",
        "warnings.filterwarnings('ignore')"
      ]
    },
    {
      "cell_type": "markdown",
      "metadata": {
        "id": "00B__gMdi6TQ"
      },
      "source": [
        "## **Setting up**"
      ]
    },
    {
      "cell_type": "code",
      "execution_count": 112,
      "metadata": {
        "id": "FFpRcTeDiImP"
      },
      "outputs": [],
      "source": [
        "## Setting up Pandas\n",
        "\n",
        "# It'll only shows 120 rows and 50 columns\n",
        "pd.set_option('display.max_rows', 120)\n",
        "pd.set_option('display.max_columns', 50)"
      ]
    },
    {
      "cell_type": "code",
      "execution_count": 113,
      "metadata": {
        "id": "5QNlG6wxjHIG"
      },
      "outputs": [],
      "source": [
        "## Setting up Matplotib\n",
        "\n",
        "plt.rcParams['figure.figsize']= (15, 6)\n",
        "# Ploting figure on dark style\n",
        "plt.style.use('seaborn-darkgrid')"
      ]
    },
    {
      "cell_type": "markdown",
      "metadata": {
        "id": "1XX9krOkk8gR"
      },
      "source": [
        "## **Exploring the dataset**"
      ]
    },
    {
      "cell_type": "markdown",
      "metadata": {
        "id": "4KDbGdZplfhi"
      },
      "source": [
        "### Getting the dataset"
      ]
    },
    {
      "cell_type": "code",
      "execution_count": 114,
      "metadata": {
        "colab": {
          "base_uri": "https://localhost:8080/",
          "height": 615
        },
        "id": "orcXlRzNlHTG",
        "outputId": "8dd9d616-b302-4c6e-d34e-0482eb39a520"
      },
      "outputs": [
        {
          "data": {
            "text/html": [
              "<div>\n",
              "<style scoped>\n",
              "    .dataframe tbody tr th:only-of-type {\n",
              "        vertical-align: middle;\n",
              "    }\n",
              "\n",
              "    .dataframe tbody tr th {\n",
              "        vertical-align: top;\n",
              "    }\n",
              "\n",
              "    .dataframe thead th {\n",
              "        text-align: right;\n",
              "    }\n",
              "</style>\n",
              "<table border=\"1\" class=\"dataframe\">\n",
              "  <thead>\n",
              "    <tr style=\"text-align: right;\">\n",
              "      <th></th>\n",
              "      <th>city</th>\n",
              "      <th>area</th>\n",
              "      <th>rooms</th>\n",
              "      <th>bathroom</th>\n",
              "      <th>parking spaces</th>\n",
              "      <th>floor</th>\n",
              "      <th>animal</th>\n",
              "      <th>furniture</th>\n",
              "      <th>hoa (R$)</th>\n",
              "      <th>rent amount (R$)</th>\n",
              "      <th>property tax (R$)</th>\n",
              "      <th>fire insurance (R$)</th>\n",
              "      <th>total (R$)</th>\n",
              "    </tr>\n",
              "  </thead>\n",
              "  <tbody>\n",
              "    <tr>\n",
              "      <th>0</th>\n",
              "      <td>São Paulo</td>\n",
              "      <td>70</td>\n",
              "      <td>2</td>\n",
              "      <td>1</td>\n",
              "      <td>1</td>\n",
              "      <td>7</td>\n",
              "      <td>acept</td>\n",
              "      <td>furnished</td>\n",
              "      <td>2065</td>\n",
              "      <td>3300</td>\n",
              "      <td>211</td>\n",
              "      <td>42</td>\n",
              "      <td>5618</td>\n",
              "    </tr>\n",
              "    <tr>\n",
              "      <th>1</th>\n",
              "      <td>São Paulo</td>\n",
              "      <td>320</td>\n",
              "      <td>4</td>\n",
              "      <td>4</td>\n",
              "      <td>0</td>\n",
              "      <td>20</td>\n",
              "      <td>acept</td>\n",
              "      <td>not furnished</td>\n",
              "      <td>1200</td>\n",
              "      <td>4960</td>\n",
              "      <td>1750</td>\n",
              "      <td>63</td>\n",
              "      <td>7973</td>\n",
              "    </tr>\n",
              "    <tr>\n",
              "      <th>2</th>\n",
              "      <td>Porto Alegre</td>\n",
              "      <td>80</td>\n",
              "      <td>1</td>\n",
              "      <td>1</td>\n",
              "      <td>1</td>\n",
              "      <td>6</td>\n",
              "      <td>acept</td>\n",
              "      <td>not furnished</td>\n",
              "      <td>1000</td>\n",
              "      <td>2800</td>\n",
              "      <td>0</td>\n",
              "      <td>41</td>\n",
              "      <td>3841</td>\n",
              "    </tr>\n",
              "    <tr>\n",
              "      <th>3</th>\n",
              "      <td>Porto Alegre</td>\n",
              "      <td>51</td>\n",
              "      <td>2</td>\n",
              "      <td>1</td>\n",
              "      <td>0</td>\n",
              "      <td>2</td>\n",
              "      <td>acept</td>\n",
              "      <td>not furnished</td>\n",
              "      <td>270</td>\n",
              "      <td>1112</td>\n",
              "      <td>22</td>\n",
              "      <td>17</td>\n",
              "      <td>1421</td>\n",
              "    </tr>\n",
              "    <tr>\n",
              "      <th>4</th>\n",
              "      <td>São Paulo</td>\n",
              "      <td>25</td>\n",
              "      <td>1</td>\n",
              "      <td>1</td>\n",
              "      <td>0</td>\n",
              "      <td>1</td>\n",
              "      <td>not acept</td>\n",
              "      <td>not furnished</td>\n",
              "      <td>0</td>\n",
              "      <td>800</td>\n",
              "      <td>25</td>\n",
              "      <td>11</td>\n",
              "      <td>836</td>\n",
              "    </tr>\n",
              "    <tr>\n",
              "      <th>5</th>\n",
              "      <td>São Paulo</td>\n",
              "      <td>376</td>\n",
              "      <td>3</td>\n",
              "      <td>3</td>\n",
              "      <td>7</td>\n",
              "      <td>-</td>\n",
              "      <td>acept</td>\n",
              "      <td>not furnished</td>\n",
              "      <td>0</td>\n",
              "      <td>8000</td>\n",
              "      <td>834</td>\n",
              "      <td>121</td>\n",
              "      <td>8955</td>\n",
              "    </tr>\n",
              "    <tr>\n",
              "      <th>6</th>\n",
              "      <td>Rio de Janeiro</td>\n",
              "      <td>72</td>\n",
              "      <td>2</td>\n",
              "      <td>1</td>\n",
              "      <td>0</td>\n",
              "      <td>7</td>\n",
              "      <td>acept</td>\n",
              "      <td>not furnished</td>\n",
              "      <td>740</td>\n",
              "      <td>1900</td>\n",
              "      <td>85</td>\n",
              "      <td>25</td>\n",
              "      <td>2750</td>\n",
              "    </tr>\n",
              "    <tr>\n",
              "      <th>7</th>\n",
              "      <td>São Paulo</td>\n",
              "      <td>213</td>\n",
              "      <td>4</td>\n",
              "      <td>4</td>\n",
              "      <td>4</td>\n",
              "      <td>4</td>\n",
              "      <td>acept</td>\n",
              "      <td>not furnished</td>\n",
              "      <td>2254</td>\n",
              "      <td>3223</td>\n",
              "      <td>1735</td>\n",
              "      <td>41</td>\n",
              "      <td>7253</td>\n",
              "    </tr>\n",
              "    <tr>\n",
              "      <th>8</th>\n",
              "      <td>São Paulo</td>\n",
              "      <td>152</td>\n",
              "      <td>2</td>\n",
              "      <td>2</td>\n",
              "      <td>1</td>\n",
              "      <td>3</td>\n",
              "      <td>acept</td>\n",
              "      <td>furnished</td>\n",
              "      <td>1000</td>\n",
              "      <td>15000</td>\n",
              "      <td>250</td>\n",
              "      <td>191</td>\n",
              "      <td>16440</td>\n",
              "    </tr>\n",
              "    <tr>\n",
              "      <th>9</th>\n",
              "      <td>Rio de Janeiro</td>\n",
              "      <td>35</td>\n",
              "      <td>1</td>\n",
              "      <td>1</td>\n",
              "      <td>0</td>\n",
              "      <td>2</td>\n",
              "      <td>acept</td>\n",
              "      <td>furnished</td>\n",
              "      <td>590</td>\n",
              "      <td>2300</td>\n",
              "      <td>35</td>\n",
              "      <td>30</td>\n",
              "      <td>2955</td>\n",
              "    </tr>\n",
              "  </tbody>\n",
              "</table>\n",
              "</div>"
            ],
            "text/plain": [
              "             city  area  rooms  bathroom  parking spaces floor     animal  \\\n",
              "0       São Paulo    70      2         1               1     7      acept   \n",
              "1       São Paulo   320      4         4               0    20      acept   \n",
              "2    Porto Alegre    80      1         1               1     6      acept   \n",
              "3    Porto Alegre    51      2         1               0     2      acept   \n",
              "4       São Paulo    25      1         1               0     1  not acept   \n",
              "5       São Paulo   376      3         3               7     -      acept   \n",
              "6  Rio de Janeiro    72      2         1               0     7      acept   \n",
              "7       São Paulo   213      4         4               4     4      acept   \n",
              "8       São Paulo   152      2         2               1     3      acept   \n",
              "9  Rio de Janeiro    35      1         1               0     2      acept   \n",
              "\n",
              "       furniture  hoa (R$)  rent amount (R$)  property tax (R$)  \\\n",
              "0      furnished      2065              3300                211   \n",
              "1  not furnished      1200              4960               1750   \n",
              "2  not furnished      1000              2800                  0   \n",
              "3  not furnished       270              1112                 22   \n",
              "4  not furnished         0               800                 25   \n",
              "5  not furnished         0              8000                834   \n",
              "6  not furnished       740              1900                 85   \n",
              "7  not furnished      2254              3223               1735   \n",
              "8      furnished      1000             15000                250   \n",
              "9      furnished       590              2300                 35   \n",
              "\n",
              "   fire insurance (R$)  total (R$)  \n",
              "0                   42        5618  \n",
              "1                   63        7973  \n",
              "2                   41        3841  \n",
              "3                   17        1421  \n",
              "4                   11         836  \n",
              "5                  121        8955  \n",
              "6                   25        2750  \n",
              "7                   41        7253  \n",
              "8                  191       16440  \n",
              "9                   30        2955  "
            ]
          },
          "execution_count": 114,
          "metadata": {},
          "output_type": "execute_result"
        }
      ],
      "source": [
        "dataset = pd.read_csv('./dataset/house_data.csv')\n",
        "dataset.head(10)"
      ]
    },
    {
      "cell_type": "code",
      "execution_count": 115,
      "metadata": {
        "colab": {
          "base_uri": "https://localhost:8080/"
        },
        "id": "nP1VBhPFln9N",
        "outputId": "6b25dd72-3707-4b86-a9aa-0876022d078b"
      },
      "outputs": [
        {
          "data": {
            "text/plain": [
              "(10692, 13)"
            ]
          },
          "execution_count": 115,
          "metadata": {},
          "output_type": "execute_result"
        }
      ],
      "source": [
        "dataset.shape"
      ]
    },
    {
      "cell_type": "code",
      "execution_count": 116,
      "metadata": {
        "colab": {
          "base_uri": "https://localhost:8080/"
        },
        "id": "INWI5vrNquqF",
        "outputId": "0ad9e4cd-e5b4-4aeb-d090-db004dcc31ce"
      },
      "outputs": [
        {
          "data": {
            "text/plain": [
              "Index(['city', 'area', 'rooms', 'bathroom', 'parking spaces', 'floor',\n",
              "       'animal', 'furniture', 'hoa (R$)', 'rent amount (R$)',\n",
              "       'property tax (R$)', 'fire insurance (R$)', 'total (R$)'],\n",
              "      dtype='object')"
            ]
          },
          "execution_count": 116,
          "metadata": {},
          "output_type": "execute_result"
        }
      ],
      "source": [
        "dataset.columns"
      ]
    },
    {
      "cell_type": "code",
      "execution_count": 117,
      "metadata": {
        "colab": {
          "base_uri": "https://localhost:8080/"
        },
        "id": "-UVTOWNlvXLO",
        "outputId": "b8911b8d-d3b1-4626-b664-6405cd20ce35"
      },
      "outputs": [
        {
          "name": "stdout",
          "output_type": "stream",
          "text": [
            "<class 'pandas.core.frame.DataFrame'>\n",
            "RangeIndex: 10692 entries, 0 to 10691\n",
            "Data columns (total 13 columns):\n",
            " #   Column               Non-Null Count  Dtype \n",
            "---  ------               --------------  ----- \n",
            " 0   city                 10692 non-null  object\n",
            " 1   area                 10692 non-null  int64 \n",
            " 2   rooms                10692 non-null  int64 \n",
            " 3   bathroom             10692 non-null  int64 \n",
            " 4   parking spaces       10692 non-null  int64 \n",
            " 5   floor                10692 non-null  object\n",
            " 6   animal               10692 non-null  object\n",
            " 7   furniture            10692 non-null  object\n",
            " 8   hoa (R$)             10692 non-null  int64 \n",
            " 9   rent amount (R$)     10692 non-null  int64 \n",
            " 10  property tax (R$)    10692 non-null  int64 \n",
            " 11  fire insurance (R$)  10692 non-null  int64 \n",
            " 12  total (R$)           10692 non-null  int64 \n",
            "dtypes: int64(9), object(4)\n",
            "memory usage: 1.1+ MB\n"
          ]
        }
      ],
      "source": [
        "dataset.info()"
      ]
    },
    {
      "cell_type": "markdown",
      "metadata": {
        "id": "aSBSPUMEr2Im"
      },
      "source": [
        "### Removing unnecessary columns\n",
        "\n",
        "The `fire insurance` and `total` columns are not needed to arrive at an answer. \n"
      ]
    },
    {
      "cell_type": "code",
      "execution_count": 118,
      "metadata": {
        "id": "bkWH3IHZsAyC"
      },
      "outputs": [],
      "source": [
        "dataset.drop(columns=['fire insurance (R$)', 'total (R$)'], inplace=True)"
      ]
    },
    {
      "cell_type": "code",
      "execution_count": 119,
      "metadata": {
        "colab": {
          "base_uri": "https://localhost:8080/"
        },
        "id": "Ih0jO3Qitd5B",
        "outputId": "b54beff0-0701-489e-bfd4-f6036d430ae3"
      },
      "outputs": [
        {
          "data": {
            "text/plain": [
              "Index(['city', 'area', 'rooms', 'bathroom', 'parking spaces', 'floor',\n",
              "       'animal', 'furniture', 'hoa (R$)', 'rent amount (R$)',\n",
              "       'property tax (R$)'],\n",
              "      dtype='object')"
            ]
          },
          "execution_count": 119,
          "metadata": {},
          "output_type": "execute_result"
        }
      ],
      "source": [
        "dataset.columns"
      ]
    },
    {
      "cell_type": "markdown",
      "metadata": {
        "id": "-p0OVaxKtwTJ"
      },
      "source": [
        "### Checking empty values\n",
        "\n",
        "You could evaluate first using `isnull` method.\n"
      ]
    },
    {
      "cell_type": "code",
      "execution_count": 120,
      "metadata": {
        "colab": {
          "base_uri": "https://localhost:8080/"
        },
        "id": "mRYLC1W_uJfK",
        "outputId": "2adbc655-462a-43e6-c208-150ada18b9b7"
      },
      "outputs": [
        {
          "data": {
            "text/plain": [
              "city                 0\n",
              "area                 0\n",
              "rooms                0\n",
              "bathroom             0\n",
              "parking spaces       0\n",
              "floor                0\n",
              "animal               0\n",
              "furniture            0\n",
              "hoa (R$)             0\n",
              "rent amount (R$)     0\n",
              "property tax (R$)    0\n",
              "dtype: int64"
            ]
          },
          "execution_count": 120,
          "metadata": {},
          "output_type": "execute_result"
        }
      ],
      "source": [
        "dataset.isnull().sum()"
      ]
    },
    {
      "cell_type": "markdown",
      "metadata": {
        "id": "tKO4T2khuhye"
      },
      "source": []
    },
    {
      "cell_type": "markdown",
      "metadata": {
        "id": "HomsBZ1guYxc"
      },
      "source": [
        "There is no empty values.\n"
      ]
    },
    {
      "cell_type": "markdown",
      "metadata": {
        "id": "2F0QbZY7ugZg"
      },
      "source": [
        "### Checking unique values\n",
        "\n",
        "You could use `nunique` method."
      ]
    },
    {
      "cell_type": "code",
      "execution_count": 121,
      "metadata": {
        "colab": {
          "base_uri": "https://localhost:8080/"
        },
        "id": "fMzkxapauyyT",
        "outputId": "f6ee3765-3601-43cc-f919-6db45546599b"
      },
      "outputs": [
        {
          "data": {
            "text/plain": [
              "city                    5\n",
              "area                  517\n",
              "rooms                  11\n",
              "bathroom               10\n",
              "parking spaces         11\n",
              "floor                  35\n",
              "animal                  2\n",
              "furniture               2\n",
              "hoa (R$)             1679\n",
              "rent amount (R$)     1195\n",
              "property tax (R$)    1243\n",
              "dtype: int64"
            ]
          },
          "execution_count": 121,
          "metadata": {},
          "output_type": "execute_result"
        }
      ],
      "source": [
        "dataset.nunique()"
      ]
    },
    {
      "cell_type": "markdown",
      "metadata": {
        "id": "hZUwBr3Lv4P-"
      },
      "source": [
        "## **Exploratory Data Analisys (EDA**)\n",
        "\n",
        "\n",
        "It means that we'll try to take insights from the data. \n",
        "\n",
        "More concretly, we'll use statistical graphs to identify different patterns, relations, and anomalies in the data.\n"
      ]
    },
    {
      "cell_type": "markdown",
      "metadata": {
        "id": "5AD4gqdQxMaD"
      },
      "source": [
        "### Spliting between ***Categorical*** and ***Numerical*** columns"
      ]
    },
    {
      "cell_type": "code",
      "execution_count": 122,
      "metadata": {
        "colab": {
          "base_uri": "https://localhost:8080/",
          "height": 258
        },
        "id": "wURS6_xWxKLS",
        "outputId": "1497179c-9e41-4396-ef66-2008c30f08a6"
      },
      "outputs": [
        {
          "name": "stdout",
          "output_type": "stream",
          "text": [
            "CATEGORICAL columns: $Index(['city', 'floor', 'animal', 'furniture'], dtype='object')\n",
            "\n",
            "\n"
          ]
        },
        {
          "data": {
            "text/html": [
              "<div>\n",
              "<style scoped>\n",
              "    .dataframe tbody tr th:only-of-type {\n",
              "        vertical-align: middle;\n",
              "    }\n",
              "\n",
              "    .dataframe tbody tr th {\n",
              "        vertical-align: top;\n",
              "    }\n",
              "\n",
              "    .dataframe thead th {\n",
              "        text-align: right;\n",
              "    }\n",
              "</style>\n",
              "<table border=\"1\" class=\"dataframe\">\n",
              "  <thead>\n",
              "    <tr style=\"text-align: right;\">\n",
              "      <th></th>\n",
              "      <th>city</th>\n",
              "      <th>floor</th>\n",
              "      <th>animal</th>\n",
              "      <th>furniture</th>\n",
              "    </tr>\n",
              "  </thead>\n",
              "  <tbody>\n",
              "    <tr>\n",
              "      <th>0</th>\n",
              "      <td>São Paulo</td>\n",
              "      <td>7</td>\n",
              "      <td>acept</td>\n",
              "      <td>furnished</td>\n",
              "    </tr>\n",
              "    <tr>\n",
              "      <th>1</th>\n",
              "      <td>São Paulo</td>\n",
              "      <td>20</td>\n",
              "      <td>acept</td>\n",
              "      <td>not furnished</td>\n",
              "    </tr>\n",
              "    <tr>\n",
              "      <th>2</th>\n",
              "      <td>Porto Alegre</td>\n",
              "      <td>6</td>\n",
              "      <td>acept</td>\n",
              "      <td>not furnished</td>\n",
              "    </tr>\n",
              "    <tr>\n",
              "      <th>3</th>\n",
              "      <td>Porto Alegre</td>\n",
              "      <td>2</td>\n",
              "      <td>acept</td>\n",
              "      <td>not furnished</td>\n",
              "    </tr>\n",
              "    <tr>\n",
              "      <th>4</th>\n",
              "      <td>São Paulo</td>\n",
              "      <td>1</td>\n",
              "      <td>not acept</td>\n",
              "      <td>not furnished</td>\n",
              "    </tr>\n",
              "  </tbody>\n",
              "</table>\n",
              "</div>"
            ],
            "text/plain": [
              "           city floor     animal      furniture\n",
              "0     São Paulo     7      acept      furnished\n",
              "1     São Paulo    20      acept  not furnished\n",
              "2  Porto Alegre     6      acept  not furnished\n",
              "3  Porto Alegre     2      acept  not furnished\n",
              "4     São Paulo     1  not acept  not furnished"
            ]
          },
          "execution_count": 122,
          "metadata": {},
          "output_type": "execute_result"
        }
      ],
      "source": [
        "categorical_columns = dataset.columns[ dataset.dtypes == object ]\n",
        "print(f'CATEGORICAL columns: ${categorical_columns}\\n\\n')\n",
        "dataset[categorical_columns].head(5)"
      ]
    },
    {
      "cell_type": "code",
      "execution_count": 123,
      "metadata": {
        "colab": {
          "base_uri": "https://localhost:8080/",
          "height": 293
        },
        "id": "rSPClXnax7pK",
        "outputId": "4148e8ba-942e-493e-9a75-9bcad9169e61"
      },
      "outputs": [
        {
          "name": "stdout",
          "output_type": "stream",
          "text": [
            "NUMERICAL columns: $Index(['area', 'rooms', 'bathroom', 'parking spaces', 'hoa (R$)',\n",
            "       'rent amount (R$)', 'property tax (R$)'],\n",
            "      dtype='object')\n",
            "\n",
            "\n"
          ]
        },
        {
          "data": {
            "text/html": [
              "<div>\n",
              "<style scoped>\n",
              "    .dataframe tbody tr th:only-of-type {\n",
              "        vertical-align: middle;\n",
              "    }\n",
              "\n",
              "    .dataframe tbody tr th {\n",
              "        vertical-align: top;\n",
              "    }\n",
              "\n",
              "    .dataframe thead th {\n",
              "        text-align: right;\n",
              "    }\n",
              "</style>\n",
              "<table border=\"1\" class=\"dataframe\">\n",
              "  <thead>\n",
              "    <tr style=\"text-align: right;\">\n",
              "      <th></th>\n",
              "      <th>area</th>\n",
              "      <th>rooms</th>\n",
              "      <th>bathroom</th>\n",
              "      <th>parking spaces</th>\n",
              "      <th>hoa (R$)</th>\n",
              "      <th>rent amount (R$)</th>\n",
              "      <th>property tax (R$)</th>\n",
              "    </tr>\n",
              "  </thead>\n",
              "  <tbody>\n",
              "    <tr>\n",
              "      <th>0</th>\n",
              "      <td>70</td>\n",
              "      <td>2</td>\n",
              "      <td>1</td>\n",
              "      <td>1</td>\n",
              "      <td>2065</td>\n",
              "      <td>3300</td>\n",
              "      <td>211</td>\n",
              "    </tr>\n",
              "    <tr>\n",
              "      <th>1</th>\n",
              "      <td>320</td>\n",
              "      <td>4</td>\n",
              "      <td>4</td>\n",
              "      <td>0</td>\n",
              "      <td>1200</td>\n",
              "      <td>4960</td>\n",
              "      <td>1750</td>\n",
              "    </tr>\n",
              "    <tr>\n",
              "      <th>2</th>\n",
              "      <td>80</td>\n",
              "      <td>1</td>\n",
              "      <td>1</td>\n",
              "      <td>1</td>\n",
              "      <td>1000</td>\n",
              "      <td>2800</td>\n",
              "      <td>0</td>\n",
              "    </tr>\n",
              "    <tr>\n",
              "      <th>3</th>\n",
              "      <td>51</td>\n",
              "      <td>2</td>\n",
              "      <td>1</td>\n",
              "      <td>0</td>\n",
              "      <td>270</td>\n",
              "      <td>1112</td>\n",
              "      <td>22</td>\n",
              "    </tr>\n",
              "    <tr>\n",
              "      <th>4</th>\n",
              "      <td>25</td>\n",
              "      <td>1</td>\n",
              "      <td>1</td>\n",
              "      <td>0</td>\n",
              "      <td>0</td>\n",
              "      <td>800</td>\n",
              "      <td>25</td>\n",
              "    </tr>\n",
              "  </tbody>\n",
              "</table>\n",
              "</div>"
            ],
            "text/plain": [
              "   area  rooms  bathroom  parking spaces  hoa (R$)  rent amount (R$)  \\\n",
              "0    70      2         1               1      2065              3300   \n",
              "1   320      4         4               0      1200              4960   \n",
              "2    80      1         1               1      1000              2800   \n",
              "3    51      2         1               0       270              1112   \n",
              "4    25      1         1               0         0               800   \n",
              "\n",
              "   property tax (R$)  \n",
              "0                211  \n",
              "1               1750  \n",
              "2                  0  \n",
              "3                 22  \n",
              "4                 25  "
            ]
          },
          "execution_count": 123,
          "metadata": {},
          "output_type": "execute_result"
        }
      ],
      "source": [
        "numerical_columns = dataset.columns[ dataset.dtypes == 'int64' ]\n",
        "print(f'NUMERICAL columns: ${numerical_columns}\\n\\n')\n",
        "dataset[numerical_columns].head(5)"
      ]
    },
    {
      "cell_type": "markdown",
      "metadata": {
        "id": "BhSXklzp0j68"
      },
      "source": [
        "### Analysing ***Categorical*** columns"
      ]
    },
    {
      "cell_type": "code",
      "execution_count": 124,
      "metadata": {
        "colab": {
          "base_uri": "https://localhost:8080/"
        },
        "id": "UyL11i-k7egk",
        "outputId": "5a0f1acf-e8ca-4636-e2ab-39a8de038e40"
      },
      "outputs": [
        {
          "name": "stdout",
          "output_type": "stream",
          "text": [
            "COLUMN: city\n",
            "São Paulo         55.059858\n",
            "Rio de Janeiro    14.038533\n",
            "Belo Horizonte    11.765806\n",
            "Porto Alegre      11.157875\n",
            "Campinas           7.977927\n",
            "Name: city, dtype: float64\n",
            "\n",
            "\n",
            "COLUMN: floor\n",
            "-      23.017209\n",
            "1      10.110363\n",
            "2       9.212495\n",
            "3       8.707445\n",
            "4       6.995885\n",
            "5       5.611672\n",
            "6       5.041152\n",
            "7       4.648335\n",
            "8       4.582866\n",
            "9       3.451178\n",
            "10      3.338945\n",
            "11      2.833895\n",
            "12      2.403666\n",
            "13      1.870557\n",
            "14      1.589974\n",
            "15      1.374860\n",
            "16      1.019454\n",
            "17      0.897868\n",
            "18      0.701459\n",
            "19      0.495698\n",
            "20      0.411523\n",
            "21      0.392817\n",
            "25      0.233820\n",
            "23      0.233820\n",
            "22      0.224467\n",
            "26      0.187056\n",
            "24      0.177703\n",
            "27      0.074822\n",
            "28      0.056117\n",
            "29      0.046764\n",
            "32      0.018706\n",
            "35      0.009353\n",
            "46      0.009353\n",
            "301     0.009353\n",
            "51      0.009353\n",
            "Name: floor, dtype: float64\n",
            "\n",
            "\n",
            "COLUMN: animal\n",
            "acept        77.777778\n",
            "not acept    22.222222\n",
            "Name: animal, dtype: float64\n",
            "\n",
            "\n",
            "COLUMN: furniture\n",
            "not furnished    75.626637\n",
            "furnished        24.373363\n",
            "Name: furniture, dtype: float64\n",
            "\n",
            "\n"
          ]
        }
      ],
      "source": [
        "for categorical_column in categorical_columns:\n",
        "  print(f'COLUMN: {categorical_column}')\n",
        "  print( dataset[categorical_column].value_counts(normalize=True) * 100 )\n",
        "  print('\\n')"
      ]
    },
    {
      "cell_type": "markdown",
      "metadata": {
        "id": "VVDLmXWU9rwz"
      },
      "source": [
        "We identified some errors: there is `-` and `301` floor. We can use `loc` method to find these rows. We can also use `iloc` to change the value of theses rows."
      ]
    },
    {
      "cell_type": "code",
      "execution_count": 125,
      "metadata": {
        "colab": {
          "base_uri": "https://localhost:8080/"
        },
        "id": "Yl4d2oGk_60m",
        "outputId": "622399f6-a6c1-4dd9-b7b5-52619e3be437"
      },
      "outputs": [
        {
          "name": "stdout",
          "output_type": "stream",
          "text": [
            "After fixed...\n",
            "\n",
            " Empty DataFrame\n",
            "Columns: [city, area, rooms, bathroom, parking spaces, floor, animal, furniture, hoa (R$), rent amount (R$), property tax (R$)]\n",
            "Index: []\n"
          ]
        }
      ],
      "source": [
        "dataset.loc[dataset.floor == '301']\n",
        "dataset.iloc[2562, 5] = '30'\n",
        "print(f'After fixed...\\n\\n {dataset.loc[dataset.floor == \"301\"]}')"
      ]
    },
    {
      "cell_type": "code",
      "execution_count": 126,
      "metadata": {
        "colab": {
          "base_uri": "https://localhost:8080/"
        },
        "id": "lx8xacbQ992P",
        "outputId": "2dff17ea-21af-40e9-e871-983bdcab8e0a"
      },
      "outputs": [
        {
          "name": "stdout",
          "output_type": "stream",
          "text": [
            "                 city  area  rooms  bathroom  parking spaces floor animal  \\\n",
            "5           São Paulo   376      3         3               7     -  acept   \n",
            "15           Campinas   330      4         6               6     -  acept   \n",
            "19          São Paulo   600      4         5               6     -  acept   \n",
            "20          São Paulo   100      7         4               0     -  acept   \n",
            "23          São Paulo    35      1         1               0     -  acept   \n",
            "...               ...   ...    ...       ...             ...   ...    ...   \n",
            "10659        Campinas   150      3         2               4     -  acept   \n",
            "10661        Campinas   250      1         2               2     -  acept   \n",
            "10668       São Paulo    24      1         1               0     -  acept   \n",
            "10674  Rio de Janeiro   135      4         2               1     -  acept   \n",
            "10691       São Paulo    80      2         1               0     -  acept   \n",
            "\n",
            "           furniture  hoa (R$)  rent amount (R$)  property tax (R$)  \n",
            "5      not furnished         0              8000                834  \n",
            "15         furnished       680              8000                328  \n",
            "19     not furnished         0             12000               9500  \n",
            "20     not furnished         0              3800                118  \n",
            "23     not furnished         0              1100                  3  \n",
            "...              ...       ...               ...                ...  \n",
            "10659      furnished         0              3500                186  \n",
            "10661  not furnished         0              2200                602  \n",
            "10668  not furnished         0               870                  0  \n",
            "10674  not furnished         0              3300                115  \n",
            "10691  not furnished         0              1400                165  \n",
            "\n",
            "[2461 rows x 11 columns]\n",
            "\n",
            "\n",
            "Applying function...\n",
            "\n",
            "Empty DataFrame\n",
            "Columns: [city, area, rooms, bathroom, parking spaces, floor, animal, furniture, hoa (R$), rent amount (R$), property tax (R$)]\n",
            "Index: []\n"
          ]
        }
      ],
      "source": [
        "print (dataset.loc[dataset.floor == '-'])\n",
        "\n",
        "print( \"\\n\\nApplying function...\\n\")\n",
        "dataset['floor']= dataset.floor.apply( lambda actual_floor: 0 if(actual_floor ==\"-\" ) else actual_floor)\n",
        "print (dataset.loc[dataset.floor == '-'])\n"
      ]
    },
    {
      "cell_type": "markdown",
      "metadata": {
        "id": "oD5MKfPKHIFw"
      },
      "source": [
        "Although we cleaned the `floor` column, we need to convert from `object` to `integer`. We can do this using `pd.to_numeric` method."
      ]
    },
    {
      "cell_type": "code",
      "execution_count": 127,
      "metadata": {
        "colab": {
          "base_uri": "https://localhost:8080/"
        },
        "id": "S3G5z4zFHAnm",
        "outputId": "471e960a-a993-48a5-c58a-9e69570f8484"
      },
      "outputs": [
        {
          "name": "stdout",
          "output_type": "stream",
          "text": [
            "<class 'pandas.core.frame.DataFrame'>\n",
            "RangeIndex: 10692 entries, 0 to 10691\n",
            "Data columns (total 11 columns):\n",
            " #   Column             Non-Null Count  Dtype \n",
            "---  ------             --------------  ----- \n",
            " 0   city               10692 non-null  object\n",
            " 1   area               10692 non-null  int64 \n",
            " 2   rooms              10692 non-null  int64 \n",
            " 3   bathroom           10692 non-null  int64 \n",
            " 4   parking spaces     10692 non-null  int64 \n",
            " 5   floor              10692 non-null  int64 \n",
            " 6   animal             10692 non-null  object\n",
            " 7   furniture          10692 non-null  object\n",
            " 8   hoa (R$)           10692 non-null  int64 \n",
            " 9   rent amount (R$)   10692 non-null  int64 \n",
            " 10  property tax (R$)  10692 non-null  int64 \n",
            "dtypes: int64(8), object(3)\n",
            "memory usage: 919.0+ KB\n"
          ]
        }
      ],
      "source": [
        "dataset['floor'] = pd.to_numeric(dataset['floor'])\n",
        "dataset.info()"
      ]
    },
    {
      "cell_type": "markdown",
      "metadata": {
        "id": "3vKpiwj5IXKd"
      },
      "source": [
        "### Analysing ***Numerical*** columns"
      ]
    },
    {
      "cell_type": "code",
      "execution_count": 128,
      "metadata": {
        "colab": {
          "base_uri": "https://localhost:8080/",
          "height": 1000
        },
        "id": "fwMAqRxqIbq_",
        "outputId": "4f00bd2e-530d-41cb-f366-892b21d05eb4"
      },
      "outputs": [
        {
          "data": {
            "image/png": "[encoded data removed]",
            "text/plain": [
              "<Figure size 2000x3000 with 14 Axes>"
            ]
          },
          "metadata": {},
          "output_type": "display_data"
        }
      ],
      "source": [
        "fig, axios = plt.subplots( figsize=(20, 30))\n",
        "\n",
        "background_color = '#f5f5f5'\n",
        "fig.set_facecolor(background_color)\n",
        "\n",
        "color_palette = sns.color_palette('flare', len(numerical_columns)  * 2)\n",
        "\n",
        "title = 'Analysing NUMERICAL columns'\n",
        "plt.suptitle(title, fontsize=22, color='#404040', fontweight=600)\n",
        "\n",
        "\n",
        "number_rows = len(numerical_columns)            ## We will have a row for each dataset column\n",
        "number_columns = 2                              ## Boxplot + Distplot for each row\n",
        "position = 1                                    ## Initial position\n",
        "\n",
        "\n",
        "for actual_column in numerical_columns:\n",
        "  \n",
        "  ## BLOXPLOT\n",
        "  plt.subplot(number_rows, number_columns, position)\n",
        "  plt.title( f'{actual_column}', loc='left', fontsize=15, fontweight=300)\n",
        "  sns.boxplot(data=dataset, y=actual_column, showmeans=True, saturation=0.65, linewidth=1, color=color_palette[position], width=0.25)\n",
        "  position += 1\n",
        "  \n",
        "  ## DISTPLOT\n",
        "  plt.subplot(number_rows, number_columns, position)\n",
        "  plt.title( f'{actual_column}', loc='left', fontsize=15, fontweight=300)\n",
        "  sns.distplot(dataset[actual_column], color=color_palette[position - 1])\n",
        "  position += 1\n",
        "  \n",
        "  plt.subplots_adjust(top=0.95, hspace=0.3)\n"
      ]
    },
    {
      "cell_type": "markdown",
      "metadata": {
        "id": "aRAJaNHXCSbM"
      },
      "source": [
        "When we analyse **area** column, we could identify some outliners. Most of house areas are concentred less than 10.000m². We could filter these outliners but we will analyse it first."
      ]
    },
    {
      "cell_type": "code",
      "execution_count": 129,
      "metadata": {
        "colab": {
          "base_uri": "https://localhost:8080/"
        },
        "id": "SMHb2ZmpCxNA",
        "outputId": "879f1650-d8a9-4334-c709-f443ef9cd37f"
      },
      "outputs": [
        {
          "data": {
            "text/plain": [
              "count    10689.000000\n",
              "mean       141.431846\n",
              "std        134.348219\n",
              "min         11.000000\n",
              "25%         56.000000\n",
              "50%         90.000000\n",
              "75%        182.000000\n",
              "max       2000.000000\n",
              "Name: area, dtype: float64"
            ]
          },
          "execution_count": 129,
          "metadata": {},
          "output_type": "execute_result"
        }
      ],
      "source": [
        "dataset.loc[ dataset.area <= 10000][\"area\"].describe()"
      ]
    },
    {
      "cell_type": "markdown",
      "metadata": {
        "id": "alJA2SJaEphs"
      },
      "source": [
        "We can notice 75% of house area is less than 200m²."
      ]
    },
    {
      "cell_type": "markdown",
      "metadata": {
        "id": "GwslrA-tHHij"
      },
      "source": [
        "We also identified some unfamiliar distribution in **hoa**. We will try to analysis more."
      ]
    },
    {
      "cell_type": "code",
      "execution_count": 130,
      "metadata": {
        "colab": {
          "base_uri": "https://localhost:8080/"
        },
        "id": "2H1MS0TQHRmS",
        "outputId": "4185e490-d23d-4bfc-f51b-1331c1ed8040"
      },
      "outputs": [
        {
          "data": {
            "text/plain": [
              "count    1.069200e+04\n",
              "mean     1.174022e+03\n",
              "std      1.559231e+04\n",
              "min      0.000000e+00\n",
              "25%      1.700000e+02\n",
              "50%      5.600000e+02\n",
              "75%      1.237500e+03\n",
              "max      1.117000e+06\n",
              "Name: hoa (R$), dtype: float64"
            ]
          },
          "execution_count": 130,
          "metadata": {},
          "output_type": "execute_result"
        }
      ],
      "source": [
        "dataset[\"hoa (R$)\"].describe()"
      ]
    },
    {
      "cell_type": "code",
      "execution_count": 131,
      "metadata": {
        "colab": {
          "base_uri": "https://localhost:8080/"
        },
        "id": "6DXIEZLyKHhf",
        "outputId": "c5e6eb7c-c23e-4881-dcda-94cb6f0210b7"
      },
      "outputs": [
        {
          "data": {
            "text/plain": [
              "255      1117000\n",
              "6979     1117000\n",
              "6230      220000\n",
              "2859      200000\n",
              "2928       81150\n",
              "1444       32000\n",
              "1213       15000\n",
              "415        14130\n",
              "5293       14000\n",
              "8858       10000\n",
              "974        10000\n",
              "547         9900\n",
              "7020        9500\n",
              "7679        9000\n",
              "1862        8600\n",
              "6185        8500\n",
              "1072        8500\n",
              "10184       8362\n",
              "254         8300\n",
              "722         8133\n",
              "Name: hoa (R$), dtype: int64"
            ]
          },
          "execution_count": 131,
          "metadata": {},
          "output_type": "execute_result"
        }
      ],
      "source": [
        "dataset[\"hoa (R$)\"].sort_values(ascending=False).head(20)"
      ]
    },
    {
      "cell_type": "code",
      "execution_count": 132,
      "metadata": {
        "colab": {
          "base_uri": "https://localhost:8080/"
        },
        "id": "gZbIbEIbH7vm",
        "outputId": "fd51f6e8-f023-4be7-86f3-e9fa0a04562e"
      },
      "outputs": [
        {
          "data": {
            "text/plain": [
              "city                 Belo Horizonte\n",
              "area                            155\n",
              "rooms                             1\n",
              "bathroom                          4\n",
              "parking spaces                    0\n",
              "floor                             4\n",
              "animal                    not acept\n",
              "furniture             not furnished\n",
              "hoa (R$)                    1117000\n",
              "rent amount (R$)               2790\n",
              "property tax (R$)                64\n",
              "Name: 255, dtype: object"
            ]
          },
          "execution_count": 132,
          "metadata": {},
          "output_type": "execute_result"
        }
      ],
      "source": [
        "dataset.iloc[255]"
      ]
    },
    {
      "cell_type": "markdown",
      "metadata": {
        "id": "LC7Ya8-YKEKI"
      },
      "source": [
        "When we look at the first element, at position 255, we can see that these **hoa** value ​​don't make sense."
      ]
    },
    {
      "cell_type": "code",
      "execution_count": 133,
      "metadata": {
        "colab": {
          "base_uri": "https://localhost:8080/"
        },
        "id": "-lncCbFeUWWH",
        "outputId": "4d16c3b8-2f68-427b-a06d-d324ddd46852"
      },
      "outputs": [
        {
          "data": {
            "text/plain": [
              "city                     São Paulo\n",
              "area                           620\n",
              "rooms                            4\n",
              "bathroom                         6\n",
              "parking spaces                   4\n",
              "floor                            1\n",
              "animal                       acept\n",
              "furniture            not furnished\n",
              "hoa (R$)                      8133\n",
              "rent amount (R$)             15000\n",
              "property tax (R$)             4520\n",
              "Name: 722, dtype: object"
            ]
          },
          "execution_count": 133,
          "metadata": {},
          "output_type": "execute_result"
        }
      ],
      "source": [
        "dataset.iloc[722]"
      ]
    },
    {
      "cell_type": "markdown",
      "metadata": {
        "id": "gudQnTjeU4VN"
      },
      "source": [
        "We empirically identify that the 20th row has a hoa that makes sense. I should refine this by identifying from each line these errors start."
      ]
    },
    {
      "cell_type": "code",
      "execution_count": 134,
      "metadata": {
        "colab": {
          "base_uri": "https://localhost:8080/"
        },
        "id": "zfjwpO9HWDOO",
        "outputId": "72783da7-5e96-4e9e-c403-abf769e2554e"
      },
      "outputs": [
        {
          "data": {
            "text/plain": [
              "city                     São Paulo\n",
              "area                           224\n",
              "rooms                            4\n",
              "bathroom                         5\n",
              "parking spaces                   3\n",
              "floor                           12\n",
              "animal                       acept\n",
              "furniture            not furnished\n",
              "hoa (R$)                      9500\n",
              "rent amount (R$)              9500\n",
              "property tax (R$)             1650\n",
              "Name: 7020, dtype: object"
            ]
          },
          "execution_count": 134,
          "metadata": {},
          "output_type": "execute_result"
        }
      ],
      "source": [
        "dataset.iloc[7020]"
      ]
    },
    {
      "cell_type": "markdown",
      "metadata": {
        "id": "XAMRYWv0hCN2"
      },
      "source": [
        "We'll do a similar analysis on `rent amount (R$)`."
      ]
    },
    {
      "cell_type": "code",
      "execution_count": 135,
      "metadata": {
        "colab": {
          "base_uri": "https://localhost:8080/"
        },
        "id": "6xUZK1_8hQme",
        "outputId": "4ae27a79-ff7c-4418-a401-09707a88247b"
      },
      "outputs": [
        {
          "data": {
            "text/plain": [
              "2500     258\n",
              "2000     244\n",
              "1200     237\n",
              "3000     235\n",
              "15000    231\n",
              "3500     216\n",
              "1800     215\n",
              "1500     211\n",
              "4000     202\n",
              "2200     201\n",
              "1100     201\n",
              "4500     182\n",
              "6000     179\n",
              "5000     178\n",
              "1300     177\n",
              "1600     172\n",
              "8000     168\n",
              "1000     167\n",
              "2800     147\n",
              "10000    142\n",
              "Name: rent amount (R$), dtype: int64"
            ]
          },
          "execution_count": 135,
          "metadata": {},
          "output_type": "execute_result"
        }
      ],
      "source": [
        "dataset[\"rent amount (R$)\"].value_counts(ascending=False).head(20)"
      ]
    },
    {
      "cell_type": "code",
      "execution_count": 136,
      "metadata": {
        "colab": {
          "base_uri": "https://localhost:8080/"
        },
        "id": "Ebr51Bnei6nB",
        "outputId": "3a5e8288-4b2d-44a2-aedc-fc86369e62ed"
      },
      "outputs": [
        {
          "data": {
            "text/plain": [
              "count    10683.000000\n",
              "mean      3878.561734\n",
              "std       3347.355302\n",
              "min        450.000000\n",
              "25%       1529.500000\n",
              "50%       2650.000000\n",
              "75%       5000.000000\n",
              "max      19500.000000\n",
              "Name: rent amount (R$), dtype: float64"
            ]
          },
          "execution_count": 136,
          "metadata": {},
          "output_type": "execute_result"
        }
      ],
      "source": [
        "dataset.loc[dataset[\"rent amount (R$)\"] < 20000][\"rent amount (R$)\"].describe()"
      ]
    },
    {
      "cell_type": "markdown",
      "metadata": {
        "id": "ptj7o_PWlpJV"
      },
      "source": [
        "From these description, we can see that most of our **rent amount** are less then R$5.000,00."
      ]
    },
    {
      "cell_type": "markdown",
      "metadata": {
        "id": "jZ2Q3RaEtapq"
      },
      "source": [
        "We will analysis **property tax** column now."
      ]
    },
    {
      "cell_type": "code",
      "execution_count": 137,
      "metadata": {
        "colab": {
          "base_uri": "https://localhost:8080/"
        },
        "id": "w9wK3CSitDHZ",
        "outputId": "5fd52da3-d861-4a71-cb24-812e53f54ac0"
      },
      "outputs": [
        {
          "data": {
            "text/plain": [
              "6645     313700\n",
              "6243      28120\n",
              "1699      21880\n",
              "10172     12500\n",
              "5331      10830\n",
              "2928       9900\n",
              "7674       9500\n",
              "19         9500\n",
              "8187       8750\n",
              "2182       8750\n",
              "Name: property tax (R$), dtype: int64"
            ]
          },
          "execution_count": 137,
          "metadata": {},
          "output_type": "execute_result"
        }
      ],
      "source": [
        "dataset[\"property tax (R$)\"].sort_values(ascending=False).head(10)"
      ]
    },
    {
      "cell_type": "code",
      "execution_count": 138,
      "metadata": {
        "colab": {
          "base_uri": "https://localhost:8080/"
        },
        "id": "QNpurPfetirx",
        "outputId": "df826695-9958-4e2a-a494-580a3db2a84b"
      },
      "outputs": [
        {
          "data": {
            "text/plain": [
              "city                     São Paulo\n",
              "area                            42\n",
              "rooms                            1\n",
              "bathroom                         2\n",
              "parking spaces                   1\n",
              "floor                            6\n",
              "animal                   not acept\n",
              "furniture            not furnished\n",
              "hoa (R$)                       690\n",
              "rent amount (R$)              2500\n",
              "property tax (R$)           313700\n",
              "Name: 6645, dtype: object"
            ]
          },
          "execution_count": 138,
          "metadata": {},
          "output_type": "execute_result"
        }
      ],
      "source": [
        "dataset.iloc[6645]"
      ]
    },
    {
      "cell_type": "markdown",
      "metadata": {
        "id": "qBnH-XgptzRs"
      },
      "source": [
        "We came to the conclusion that these **property tax** doesn't make sense because it's just a house with 42m²."
      ]
    },
    {
      "cell_type": "markdown",
      "metadata": {
        "id": "RqVPtNX8vBll"
      },
      "source": [
        "## **Feature Engineering**\n",
        "\n",
        "It includes *selecting*, *transforming*, and *creating* features to be employed on the ML model. \n",
        "\n",
        "  \n",
        "\n",
        "\n",
        "*   **Overfitting**: Good result on training dataset, but bad result on test dataset.\n",
        "*   **Underfitting**: Bad result on training and test dataset. (***TERRIBLE!***) \n",
        "\n"
      ]
    },
    {
      "cell_type": "markdown",
      "metadata": {
        "id": "vZrZkyKJ2Et-"
      },
      "source": [
        "### Adjusting ***Categorical*** columns"
      ]
    },
    {
      "cell_type": "code",
      "execution_count": 139,
      "metadata": {
        "colab": {
          "base_uri": "https://localhost:8080/"
        },
        "id": "FoTwGo2XxNa_",
        "outputId": "1274ddb0-eca0-43cf-f29e-ad6b605d59fe"
      },
      "outputs": [
        {
          "data": {
            "text/plain": [
              "Index(['city', 'floor', 'animal', 'furniture'], dtype='object')"
            ]
          },
          "execution_count": 139,
          "metadata": {},
          "output_type": "execute_result"
        }
      ],
      "source": [
        "categorical_columns"
      ]
    },
    {
      "cell_type": "markdown",
      "metadata": {
        "id": "vP7C1Fba3qaP"
      },
      "source": [
        "We'll only use **animal** and **furniture** columns. But I need to change to numbers, where I can input into my ML model. I'll be starting with **animal** column."
      ]
    },
    {
      "cell_type": "code",
      "execution_count": 140,
      "metadata": {
        "colab": {
          "base_uri": "https://localhost:8080/"
        },
        "id": "lPSvr81P38SE",
        "outputId": "c1018421-b33c-445f-d6fe-403a011aab12"
      },
      "outputs": [
        {
          "data": {
            "text/plain": [
              "acept        8316\n",
              "not acept    2376\n",
              "Name: animal, dtype: int64"
            ]
          },
          "execution_count": 140,
          "metadata": {},
          "output_type": "execute_result"
        }
      ],
      "source": [
        "dataset[\"animal\"].value_counts()"
      ]
    },
    {
      "cell_type": "markdown",
      "metadata": {
        "id": "6JjCs4CU4Rr_"
      },
      "source": [
        "I'll be using `map` method, where 1 means **acept** and 0 means **not acept**."
      ]
    },
    {
      "cell_type": "code",
      "execution_count": 141,
      "metadata": {
        "id": "OtRhMnsH4JhO"
      },
      "outputs": [],
      "source": [
        "dataset[\"animal\"] = dataset[\"animal\"].map({\"acept\":1, \"not acept\": 0})"
      ]
    },
    {
      "cell_type": "markdown",
      "metadata": {
        "id": "bh7kuQ0b4p1K"
      },
      "source": [
        "Now, i'll doing something similar to **furniture** column, where 1 means **furnished** and 0 means **not furnished**."
      ]
    },
    {
      "cell_type": "code",
      "execution_count": 142,
      "metadata": {
        "colab": {
          "base_uri": "https://localhost:8080/"
        },
        "id": "MN0RYjIs4hH-",
        "outputId": "82705e1b-aaa3-424f-c655-a4e500cd29a5"
      },
      "outputs": [
        {
          "data": {
            "text/plain": [
              "not furnished    8086\n",
              "furnished        2606\n",
              "Name: furniture, dtype: int64"
            ]
          },
          "execution_count": 142,
          "metadata": {},
          "output_type": "execute_result"
        }
      ],
      "source": [
        "dataset.furniture.value_counts()"
      ]
    },
    {
      "cell_type": "code",
      "execution_count": 143,
      "metadata": {
        "id": "mUzrgKd74xjO"
      },
      "outputs": [],
      "source": [
        "dataset[\"furniture\"]=dataset[\"furniture\"].map({\"furnished\":1,\"not furnished\":0})"
      ]
    },
    {
      "cell_type": "markdown",
      "metadata": {
        "id": "xZqH3O6F7-HG"
      },
      "source": [
        "We will now filter the Sao Paulo city. That's because we want our ML model to be able to answer questions related to Sao Paulo."
      ]
    },
    {
      "cell_type": "code",
      "execution_count": 144,
      "metadata": {
        "colab": {
          "base_uri": "https://localhost:8080/"
        },
        "id": "hNn-NaNc8bs2",
        "outputId": "2f2c0e8a-f863-4b3d-8e62-321b3d1c1462"
      },
      "outputs": [
        {
          "data": {
            "text/plain": [
              "São Paulo         5887\n",
              "Rio de Janeiro    1501\n",
              "Belo Horizonte    1258\n",
              "Porto Alegre      1193\n",
              "Campinas           853\n",
              "Name: city, dtype: int64"
            ]
          },
          "execution_count": 144,
          "metadata": {},
          "output_type": "execute_result"
        }
      ],
      "source": [
        "dataset[\"city\"].value_counts()"
      ]
    },
    {
      "cell_type": "code",
      "execution_count": 145,
      "metadata": {
        "colab": {
          "base_uri": "https://localhost:8080/",
          "height": 354
        },
        "id": "-LeyyVpU8faC",
        "outputId": "7fa63e39-7fa4-420f-a88b-5b4800599fdc"
      },
      "outputs": [
        {
          "data": {
            "text/html": [
              "<div>\n",
              "<style scoped>\n",
              "    .dataframe tbody tr th:only-of-type {\n",
              "        vertical-align: middle;\n",
              "    }\n",
              "\n",
              "    .dataframe tbody tr th {\n",
              "        vertical-align: top;\n",
              "    }\n",
              "\n",
              "    .dataframe thead th {\n",
              "        text-align: right;\n",
              "    }\n",
              "</style>\n",
              "<table border=\"1\" class=\"dataframe\">\n",
              "  <thead>\n",
              "    <tr style=\"text-align: right;\">\n",
              "      <th></th>\n",
              "      <th>city</th>\n",
              "      <th>area</th>\n",
              "      <th>rooms</th>\n",
              "      <th>bathroom</th>\n",
              "      <th>parking spaces</th>\n",
              "      <th>floor</th>\n",
              "      <th>animal</th>\n",
              "      <th>furniture</th>\n",
              "      <th>hoa (R$)</th>\n",
              "      <th>rent amount (R$)</th>\n",
              "      <th>property tax (R$)</th>\n",
              "    </tr>\n",
              "  </thead>\n",
              "  <tbody>\n",
              "    <tr>\n",
              "      <th>0</th>\n",
              "      <td>São Paulo</td>\n",
              "      <td>70</td>\n",
              "      <td>2</td>\n",
              "      <td>1</td>\n",
              "      <td>1</td>\n",
              "      <td>7</td>\n",
              "      <td>1</td>\n",
              "      <td>1</td>\n",
              "      <td>2065</td>\n",
              "      <td>3300</td>\n",
              "      <td>211</td>\n",
              "    </tr>\n",
              "    <tr>\n",
              "      <th>1</th>\n",
              "      <td>São Paulo</td>\n",
              "      <td>320</td>\n",
              "      <td>4</td>\n",
              "      <td>4</td>\n",
              "      <td>0</td>\n",
              "      <td>20</td>\n",
              "      <td>1</td>\n",
              "      <td>0</td>\n",
              "      <td>1200</td>\n",
              "      <td>4960</td>\n",
              "      <td>1750</td>\n",
              "    </tr>\n",
              "    <tr>\n",
              "      <th>4</th>\n",
              "      <td>São Paulo</td>\n",
              "      <td>25</td>\n",
              "      <td>1</td>\n",
              "      <td>1</td>\n",
              "      <td>0</td>\n",
              "      <td>1</td>\n",
              "      <td>0</td>\n",
              "      <td>0</td>\n",
              "      <td>0</td>\n",
              "      <td>800</td>\n",
              "      <td>25</td>\n",
              "    </tr>\n",
              "    <tr>\n",
              "      <th>5</th>\n",
              "      <td>São Paulo</td>\n",
              "      <td>376</td>\n",
              "      <td>3</td>\n",
              "      <td>3</td>\n",
              "      <td>7</td>\n",
              "      <td>0</td>\n",
              "      <td>1</td>\n",
              "      <td>0</td>\n",
              "      <td>0</td>\n",
              "      <td>8000</td>\n",
              "      <td>834</td>\n",
              "    </tr>\n",
              "    <tr>\n",
              "      <th>7</th>\n",
              "      <td>São Paulo</td>\n",
              "      <td>213</td>\n",
              "      <td>4</td>\n",
              "      <td>4</td>\n",
              "      <td>4</td>\n",
              "      <td>4</td>\n",
              "      <td>1</td>\n",
              "      <td>0</td>\n",
              "      <td>2254</td>\n",
              "      <td>3223</td>\n",
              "      <td>1735</td>\n",
              "    </tr>\n",
              "  </tbody>\n",
              "</table>\n",
              "</div>"
            ],
            "text/plain": [
              "        city  area  rooms  bathroom  parking spaces  floor  animal  furniture  \\\n",
              "0  São Paulo    70      2         1               1      7       1          1   \n",
              "1  São Paulo   320      4         4               0     20       1          0   \n",
              "4  São Paulo    25      1         1               0      1       0          0   \n",
              "5  São Paulo   376      3         3               7      0       1          0   \n",
              "7  São Paulo   213      4         4               4      4       1          0   \n",
              "\n",
              "   hoa (R$)  rent amount (R$)  property tax (R$)  \n",
              "0      2065              3300                211  \n",
              "1      1200              4960               1750  \n",
              "4         0               800                 25  \n",
              "5         0              8000                834  \n",
              "7      2254              3223               1735  "
            ]
          },
          "execution_count": 145,
          "metadata": {},
          "output_type": "execute_result"
        }
      ],
      "source": [
        "dataset_filtered_SP = dataset.loc[dataset[\"city\"]==\"São Paulo\"]\n",
        "dataset_filtered_SP.head()"
      ]
    },
    {
      "cell_type": "markdown",
      "metadata": {
        "id": "aRnPd7qK-L6B"
      },
      "source": [
        "After that, the **city** column is no longer needed as all rows have `São Paulo` as their value."
      ]
    },
    {
      "cell_type": "code",
      "execution_count": 146,
      "metadata": {
        "colab": {
          "base_uri": "https://localhost:8080/",
          "height": 250
        },
        "id": "wM8l7NXX83BZ",
        "outputId": "b234a6ba-7c70-48ae-8109-c7be4a140229"
      },
      "outputs": [
        {
          "data": {
            "text/html": [
              "<div>\n",
              "<style scoped>\n",
              "    .dataframe tbody tr th:only-of-type {\n",
              "        vertical-align: middle;\n",
              "    }\n",
              "\n",
              "    .dataframe tbody tr th {\n",
              "        vertical-align: top;\n",
              "    }\n",
              "\n",
              "    .dataframe thead th {\n",
              "        text-align: right;\n",
              "    }\n",
              "</style>\n",
              "<table border=\"1\" class=\"dataframe\">\n",
              "  <thead>\n",
              "    <tr style=\"text-align: right;\">\n",
              "      <th></th>\n",
              "      <th>area</th>\n",
              "      <th>rooms</th>\n",
              "      <th>bathroom</th>\n",
              "      <th>parking spaces</th>\n",
              "      <th>floor</th>\n",
              "      <th>animal</th>\n",
              "      <th>furniture</th>\n",
              "      <th>hoa (R$)</th>\n",
              "      <th>rent amount (R$)</th>\n",
              "      <th>property tax (R$)</th>\n",
              "    </tr>\n",
              "  </thead>\n",
              "  <tbody>\n",
              "    <tr>\n",
              "      <th>0</th>\n",
              "      <td>70</td>\n",
              "      <td>2</td>\n",
              "      <td>1</td>\n",
              "      <td>1</td>\n",
              "      <td>7</td>\n",
              "      <td>1</td>\n",
              "      <td>1</td>\n",
              "      <td>2065</td>\n",
              "      <td>3300</td>\n",
              "      <td>211</td>\n",
              "    </tr>\n",
              "    <tr>\n",
              "      <th>1</th>\n",
              "      <td>320</td>\n",
              "      <td>4</td>\n",
              "      <td>4</td>\n",
              "      <td>0</td>\n",
              "      <td>20</td>\n",
              "      <td>1</td>\n",
              "      <td>0</td>\n",
              "      <td>1200</td>\n",
              "      <td>4960</td>\n",
              "      <td>1750</td>\n",
              "    </tr>\n",
              "    <tr>\n",
              "      <th>4</th>\n",
              "      <td>25</td>\n",
              "      <td>1</td>\n",
              "      <td>1</td>\n",
              "      <td>0</td>\n",
              "      <td>1</td>\n",
              "      <td>0</td>\n",
              "      <td>0</td>\n",
              "      <td>0</td>\n",
              "      <td>800</td>\n",
              "      <td>25</td>\n",
              "    </tr>\n",
              "    <tr>\n",
              "      <th>5</th>\n",
              "      <td>376</td>\n",
              "      <td>3</td>\n",
              "      <td>3</td>\n",
              "      <td>7</td>\n",
              "      <td>0</td>\n",
              "      <td>1</td>\n",
              "      <td>0</td>\n",
              "      <td>0</td>\n",
              "      <td>8000</td>\n",
              "      <td>834</td>\n",
              "    </tr>\n",
              "    <tr>\n",
              "      <th>7</th>\n",
              "      <td>213</td>\n",
              "      <td>4</td>\n",
              "      <td>4</td>\n",
              "      <td>4</td>\n",
              "      <td>4</td>\n",
              "      <td>1</td>\n",
              "      <td>0</td>\n",
              "      <td>2254</td>\n",
              "      <td>3223</td>\n",
              "      <td>1735</td>\n",
              "    </tr>\n",
              "  </tbody>\n",
              "</table>\n",
              "</div>"
            ],
            "text/plain": [
              "   area  rooms  bathroom  parking spaces  floor  animal  furniture  hoa (R$)  \\\n",
              "0    70      2         1               1      7       1          1      2065   \n",
              "1   320      4         4               0     20       1          0      1200   \n",
              "4    25      1         1               0      1       0          0         0   \n",
              "5   376      3         3               7      0       1          0         0   \n",
              "7   213      4         4               4      4       1          0      2254   \n",
              "\n",
              "   rent amount (R$)  property tax (R$)  \n",
              "0              3300                211  \n",
              "1              4960               1750  \n",
              "4               800                 25  \n",
              "5              8000                834  \n",
              "7              3223               1735  "
            ]
          },
          "execution_count": 146,
          "metadata": {},
          "output_type": "execute_result"
        }
      ],
      "source": [
        "dataset_filtered_SP.drop(columns=[\"city\"], inplace=True)\n",
        "dataset_filtered_SP.head(5)"
      ]
    },
    {
      "cell_type": "markdown",
      "metadata": {
        "id": "WCyOjF87_K1a"
      },
      "source": [
        "### Spliting dataset in features and predictor\n",
        "\n",
        "All our columns, except the **rent amount** will be our characteristics since we'll try to predict it.\n"
      ]
    },
    {
      "cell_type": "code",
      "execution_count": 147,
      "metadata": {
        "id": "yex23IhZ_RxZ"
      },
      "outputs": [],
      "source": [
        "features = dataset_filtered_SP.drop(columns=[\"rent amount (R$)\"])\n",
        "predictor = dataset_filtered_SP[\"rent amount (R$)\"]"
      ]
    },
    {
      "cell_type": "code",
      "execution_count": 148,
      "metadata": {
        "colab": {
          "base_uri": "https://localhost:8080/",
          "height": 206
        },
        "id": "VMlFBXYDGDl8",
        "outputId": "f4549beb-61c8-449f-ca6f-ff79ab79ba52"
      },
      "outputs": [
        {
          "data": {
            "text/html": [
              "<div>\n",
              "<style scoped>\n",
              "    .dataframe tbody tr th:only-of-type {\n",
              "        vertical-align: middle;\n",
              "    }\n",
              "\n",
              "    .dataframe tbody tr th {\n",
              "        vertical-align: top;\n",
              "    }\n",
              "\n",
              "    .dataframe thead th {\n",
              "        text-align: right;\n",
              "    }\n",
              "</style>\n",
              "<table border=\"1\" class=\"dataframe\">\n",
              "  <thead>\n",
              "    <tr style=\"text-align: right;\">\n",
              "      <th></th>\n",
              "      <th>area</th>\n",
              "      <th>rooms</th>\n",
              "      <th>bathroom</th>\n",
              "      <th>parking spaces</th>\n",
              "      <th>floor</th>\n",
              "      <th>animal</th>\n",
              "      <th>furniture</th>\n",
              "      <th>hoa (R$)</th>\n",
              "      <th>property tax (R$)</th>\n",
              "    </tr>\n",
              "  </thead>\n",
              "  <tbody>\n",
              "    <tr>\n",
              "      <th>0</th>\n",
              "      <td>70</td>\n",
              "      <td>2</td>\n",
              "      <td>1</td>\n",
              "      <td>1</td>\n",
              "      <td>7</td>\n",
              "      <td>1</td>\n",
              "      <td>1</td>\n",
              "      <td>2065</td>\n",
              "      <td>211</td>\n",
              "    </tr>\n",
              "    <tr>\n",
              "      <th>1</th>\n",
              "      <td>320</td>\n",
              "      <td>4</td>\n",
              "      <td>4</td>\n",
              "      <td>0</td>\n",
              "      <td>20</td>\n",
              "      <td>1</td>\n",
              "      <td>0</td>\n",
              "      <td>1200</td>\n",
              "      <td>1750</td>\n",
              "    </tr>\n",
              "    <tr>\n",
              "      <th>4</th>\n",
              "      <td>25</td>\n",
              "      <td>1</td>\n",
              "      <td>1</td>\n",
              "      <td>0</td>\n",
              "      <td>1</td>\n",
              "      <td>0</td>\n",
              "      <td>0</td>\n",
              "      <td>0</td>\n",
              "      <td>25</td>\n",
              "    </tr>\n",
              "    <tr>\n",
              "      <th>5</th>\n",
              "      <td>376</td>\n",
              "      <td>3</td>\n",
              "      <td>3</td>\n",
              "      <td>7</td>\n",
              "      <td>0</td>\n",
              "      <td>1</td>\n",
              "      <td>0</td>\n",
              "      <td>0</td>\n",
              "      <td>834</td>\n",
              "    </tr>\n",
              "    <tr>\n",
              "      <th>7</th>\n",
              "      <td>213</td>\n",
              "      <td>4</td>\n",
              "      <td>4</td>\n",
              "      <td>4</td>\n",
              "      <td>4</td>\n",
              "      <td>1</td>\n",
              "      <td>0</td>\n",
              "      <td>2254</td>\n",
              "      <td>1735</td>\n",
              "    </tr>\n",
              "  </tbody>\n",
              "</table>\n",
              "</div>"
            ],
            "text/plain": [
              "   area  rooms  bathroom  parking spaces  floor  animal  furniture  hoa (R$)  \\\n",
              "0    70      2         1               1      7       1          1      2065   \n",
              "1   320      4         4               0     20       1          0      1200   \n",
              "4    25      1         1               0      1       0          0         0   \n",
              "5   376      3         3               7      0       1          0         0   \n",
              "7   213      4         4               4      4       1          0      2254   \n",
              "\n",
              "   property tax (R$)  \n",
              "0                211  \n",
              "1               1750  \n",
              "4                 25  \n",
              "5                834  \n",
              "7               1735  "
            ]
          },
          "execution_count": 148,
          "metadata": {},
          "output_type": "execute_result"
        }
      ],
      "source": [
        "features.head(5)"
      ]
    },
    {
      "cell_type": "markdown",
      "metadata": {
        "id": "B7GqFQvTGtGu"
      },
      "source": [
        "### Analysing Covariance \n",
        "\n",
        "We'll check covariance between the features. We could use `corr` method or **Yellowbrick** lib.\n",
        "\n",
        "\n",
        "\n",
        "\n",
        "*   Positive covariance: It appears when `result > 0`, both increase together. \n",
        "*   Negative covariance: It appears when `result < 0`, when one of them increases, the other decreases.\n",
        "\n"
      ]
    },
    {
      "cell_type": "code",
      "execution_count": 149,
      "metadata": {
        "colab": {
          "base_uri": "https://localhost:8080/",
          "height": 511
        },
        "id": "PbIkxkDqGzJO",
        "outputId": "76acc72a-1bfc-4d2b-bfde-8768d512fdbd"
      },
      "outputs": [
        {
          "data": {
            "text/html": [
              "<div>\n",
              "<style scoped>\n",
              "    .dataframe tbody tr th:only-of-type {\n",
              "        vertical-align: middle;\n",
              "    }\n",
              "\n",
              "    .dataframe tbody tr th {\n",
              "        vertical-align: top;\n",
              "    }\n",
              "\n",
              "    .dataframe thead th {\n",
              "        text-align: right;\n",
              "    }\n",
              "</style>\n",
              "<table border=\"1\" class=\"dataframe\">\n",
              "  <thead>\n",
              "    <tr style=\"text-align: right;\">\n",
              "      <th></th>\n",
              "      <th>area</th>\n",
              "      <th>rooms</th>\n",
              "      <th>bathroom</th>\n",
              "      <th>parking spaces</th>\n",
              "      <th>floor</th>\n",
              "      <th>animal</th>\n",
              "      <th>furniture</th>\n",
              "      <th>hoa (R$)</th>\n",
              "      <th>rent amount (R$)</th>\n",
              "      <th>property tax (R$)</th>\n",
              "    </tr>\n",
              "  </thead>\n",
              "  <tbody>\n",
              "    <tr>\n",
              "      <th>area</th>\n",
              "      <td>1.000000</td>\n",
              "      <td>0.306863</td>\n",
              "      <td>0.316543</td>\n",
              "      <td>0.300795</td>\n",
              "      <td>-0.038790</td>\n",
              "      <td>0.073565</td>\n",
              "      <td>-0.018145</td>\n",
              "      <td>0.056091</td>\n",
              "      <td>0.274749</td>\n",
              "      <td>0.065289</td>\n",
              "    </tr>\n",
              "    <tr>\n",
              "      <th>rooms</th>\n",
              "      <td>0.306863</td>\n",
              "      <td>1.000000</td>\n",
              "      <td>0.759432</td>\n",
              "      <td>0.645041</td>\n",
              "      <td>-0.092117</td>\n",
              "      <td>0.213963</td>\n",
              "      <td>-0.088931</td>\n",
              "      <td>0.136343</td>\n",
              "      <td>0.537622</td>\n",
              "      <td>0.071702</td>\n",
              "    </tr>\n",
              "    <tr>\n",
              "      <th>bathroom</th>\n",
              "      <td>0.316543</td>\n",
              "      <td>0.759432</td>\n",
              "      <td>1.000000</td>\n",
              "      <td>0.703530</td>\n",
              "      <td>-0.015503</td>\n",
              "      <td>0.159097</td>\n",
              "      <td>0.005864</td>\n",
              "      <td>0.163205</td>\n",
              "      <td>0.638924</td>\n",
              "      <td>0.101616</td>\n",
              "    </tr>\n",
              "    <tr>\n",
              "      <th>parking spaces</th>\n",
              "      <td>0.300795</td>\n",
              "      <td>0.645041</td>\n",
              "      <td>0.703530</td>\n",
              "      <td>1.000000</td>\n",
              "      <td>-0.038378</td>\n",
              "      <td>0.165253</td>\n",
              "      <td>-0.015155</td>\n",
              "      <td>0.115951</td>\n",
              "      <td>0.573373</td>\n",
              "      <td>0.092362</td>\n",
              "    </tr>\n",
              "    <tr>\n",
              "      <th>floor</th>\n",
              "      <td>-0.038790</td>\n",
              "      <td>-0.092117</td>\n",
              "      <td>-0.015503</td>\n",
              "      <td>-0.038378</td>\n",
              "      <td>1.000000</td>\n",
              "      <td>-0.014202</td>\n",
              "      <td>0.135180</td>\n",
              "      <td>0.107211</td>\n",
              "      <td>0.065294</td>\n",
              "      <td>0.005672</td>\n",
              "    </tr>\n",
              "    <tr>\n",
              "      <th>animal</th>\n",
              "      <td>0.073565</td>\n",
              "      <td>0.213963</td>\n",
              "      <td>0.159097</td>\n",
              "      <td>0.165253</td>\n",
              "      <td>-0.014202</td>\n",
              "      <td>1.000000</td>\n",
              "      <td>-0.066208</td>\n",
              "      <td>0.020575</td>\n",
              "      <td>0.107147</td>\n",
              "      <td>-0.005308</td>\n",
              "    </tr>\n",
              "    <tr>\n",
              "      <th>furniture</th>\n",
              "      <td>-0.018145</td>\n",
              "      <td>-0.088931</td>\n",
              "      <td>0.005864</td>\n",
              "      <td>-0.015155</td>\n",
              "      <td>0.135180</td>\n",
              "      <td>-0.066208</td>\n",
              "      <td>1.000000</td>\n",
              "      <td>0.042860</td>\n",
              "      <td>0.154316</td>\n",
              "      <td>-0.007852</td>\n",
              "    </tr>\n",
              "    <tr>\n",
              "      <th>hoa (R$)</th>\n",
              "      <td>0.056091</td>\n",
              "      <td>0.136343</td>\n",
              "      <td>0.163205</td>\n",
              "      <td>0.115951</td>\n",
              "      <td>0.107211</td>\n",
              "      <td>0.020575</td>\n",
              "      <td>0.042860</td>\n",
              "      <td>1.000000</td>\n",
              "      <td>0.188147</td>\n",
              "      <td>0.028872</td>\n",
              "    </tr>\n",
              "    <tr>\n",
              "      <th>rent amount (R$)</th>\n",
              "      <td>0.274749</td>\n",
              "      <td>0.537622</td>\n",
              "      <td>0.638924</td>\n",
              "      <td>0.573373</td>\n",
              "      <td>0.065294</td>\n",
              "      <td>0.107147</td>\n",
              "      <td>0.154316</td>\n",
              "      <td>0.188147</td>\n",
              "      <td>1.000000</td>\n",
              "      <td>0.091749</td>\n",
              "    </tr>\n",
              "    <tr>\n",
              "      <th>property tax (R$)</th>\n",
              "      <td>0.065289</td>\n",
              "      <td>0.071702</td>\n",
              "      <td>0.101616</td>\n",
              "      <td>0.092362</td>\n",
              "      <td>0.005672</td>\n",
              "      <td>-0.005308</td>\n",
              "      <td>-0.007852</td>\n",
              "      <td>0.028872</td>\n",
              "      <td>0.091749</td>\n",
              "      <td>1.000000</td>\n",
              "    </tr>\n",
              "  </tbody>\n",
              "</table>\n",
              "</div>"
            ],
            "text/plain": [
              "                       area     rooms  bathroom  parking spaces     floor  \\\n",
              "area               1.000000  0.306863  0.316543        0.300795 -0.038790   \n",
              "rooms              0.306863  1.000000  0.759432        0.645041 -0.092117   \n",
              "bathroom           0.316543  0.759432  1.000000        0.703530 -0.015503   \n",
              "parking spaces     0.300795  0.645041  0.703530        1.000000 -0.038378   \n",
              "floor             -0.038790 -0.092117 -0.015503       -0.038378  1.000000   \n",
              "animal             0.073565  0.213963  0.159097        0.165253 -0.014202   \n",
              "furniture         -0.018145 -0.088931  0.005864       -0.015155  0.135180   \n",
              "hoa (R$)           0.056091  0.136343  0.163205        0.115951  0.107211   \n",
              "rent amount (R$)   0.274749  0.537622  0.638924        0.573373  0.065294   \n",
              "property tax (R$)  0.065289  0.071702  0.101616        0.092362  0.005672   \n",
              "\n",
              "                     animal  furniture  hoa (R$)  rent amount (R$)  \\\n",
              "area               0.073565  -0.018145  0.056091          0.274749   \n",
              "rooms              0.213963  -0.088931  0.136343          0.537622   \n",
              "bathroom           0.159097   0.005864  0.163205          0.638924   \n",
              "parking spaces     0.165253  -0.015155  0.115951          0.573373   \n",
              "floor             -0.014202   0.135180  0.107211          0.065294   \n",
              "animal             1.000000  -0.066208  0.020575          0.107147   \n",
              "furniture         -0.066208   1.000000  0.042860          0.154316   \n",
              "hoa (R$)           0.020575   0.042860  1.000000          0.188147   \n",
              "rent amount (R$)   0.107147   0.154316  0.188147          1.000000   \n",
              "property tax (R$) -0.005308  -0.007852  0.028872          0.091749   \n",
              "\n",
              "                   property tax (R$)  \n",
              "area                        0.065289  \n",
              "rooms                       0.071702  \n",
              "bathroom                    0.101616  \n",
              "parking spaces              0.092362  \n",
              "floor                       0.005672  \n",
              "animal                     -0.005308  \n",
              "furniture                  -0.007852  \n",
              "hoa (R$)                    0.028872  \n",
              "rent amount (R$)            0.091749  \n",
              "property tax (R$)           1.000000  "
            ]
          },
          "execution_count": 149,
          "metadata": {},
          "output_type": "execute_result"
        }
      ],
      "source": [
        "dataset_filtered_SP.corr()"
      ]
    },
    {
      "cell_type": "markdown",
      "metadata": {
        "id": "vqWEfkJ7JLmp"
      },
      "source": [
        "For use `Yellowbrick` lib, we need to import it. "
      ]
    },
    {
      "cell_type": "code",
      "execution_count": 150,
      "metadata": {
        "id": "8c83fI9ZMl7u"
      },
      "outputs": [],
      "source": [
        "from yellowbrick.features import Rank2D"
      ]
    },
    {
      "cell_type": "markdown",
      "metadata": {
        "id": "N6moTV5wL1G0"
      },
      "source": [
        "We'll employ ***model fitting*** on our features, trying to get the best features.\n",
        "\n",
        "During the fitting process, you run an algorithm on data for which you know the target variable, known as “labeled” data, and produce a machine learning model. Then, you compare the outcomes to real, observed values of the target variable to determine their accuracy. "
      ]
    },
    {
      "cell_type": "code",
      "execution_count": 151,
      "metadata": {
        "colab": {
          "base_uri": "https://localhost:8080/",
          "height": 444
        },
        "id": "2h7eb24zJaxp",
        "outputId": "2840e912-617b-41cf-bcf7-32e2ccc49f26"
      },
      "outputs": [
        {
          "data": {
            "image/png": "[encoded data removed]",
            "text/plain": [
              "<Figure size 1500x600 with 2 Axes>"
            ]
          },
          "metadata": {},
          "output_type": "display_data"
        },
        {
          "data": {
            "text/plain": [
              "<matplotlib.axes._subplots.AxesSubplot at 0x7ff267aae1c0>"
            ]
          },
          "execution_count": 151,
          "metadata": {},
          "output_type": "execute_result"
        }
      ],
      "source": [
        "correlation = Rank2D( algorithm=\"pearson\")\n",
        "\n",
        "correlation.fit(features, predictor)\n",
        "correlation.transform( features )\n",
        "correlation.show()"
      ]
    },
    {
      "cell_type": "markdown",
      "metadata": {
        "id": "_GKUOyebNNGa"
      },
      "source": [
        "We can see **rooms**, **bathroom**, and **parking spaces** as the most important features to our ML model."
      ]
    },
    {
      "cell_type": "markdown",
      "metadata": {
        "id": "tz172nNnQAYN"
      },
      "source": [
        "### Spliting dataset in training and test dataset\n",
        "\n",
        "Normally, it takes . We'll use `train_test_split` from **sklearn** lib."
      ]
    },
    {
      "cell_type": "code",
      "execution_count": 152,
      "metadata": {
        "id": "dPxfGl8ZQFMP"
      },
      "outputs": [],
      "source": [
        "from sklearn.model_selection import train_test_split "
      ]
    },
    {
      "cell_type": "code",
      "execution_count": 153,
      "metadata": {
        "id": "1x-EIc77RBzO"
      },
      "outputs": [],
      "source": [
        "x_training_dataset, x_test_dataset, y_training_dataset, y_test_dataset = train_test_split(\n",
        "    features, predictor, test_size=0.2, random_state=10\n",
        ")"
      ]
    },
    {
      "cell_type": "code",
      "execution_count": 154,
      "metadata": {
        "colab": {
          "base_uri": "https://localhost:8080/"
        },
        "id": "ruWs3KNiSDDx",
        "outputId": "ea945c99-e86d-491b-ed7a-6007a609e9d3"
      },
      "outputs": [
        {
          "name": "stdout",
          "output_type": "stream",
          "text": [
            "Training dataset:\n",
            "       area  rooms  bathroom  parking spaces  floor  animal  furniture  \\\n",
            "7212   380      4         6               6     11       1          1   \n",
            "2211    25      1         1               0      1       0          0   \n",
            "4147    28      1         1               1      4       0          1   \n",
            "2644   380      4         2               4      0       1          0   \n",
            "3375    87      3         2               2      5       0          0   \n",
            "...    ...    ...       ...             ...    ...     ...        ...   \n",
            "2122   240      4         4               4     26       1          0   \n",
            "6224    70      3         2               1      3       1          0   \n",
            "2393    50      1         1               0      0       0          0   \n",
            "8357    73      2         1               1      8       1          0   \n",
            "2316    58      2         1               1      3       1          1   \n",
            "\n",
            "      hoa (R$)  property tax (R$)  \n",
            "7212      4500               3000  \n",
            "2211         0                  0  \n",
            "4147       537                 80  \n",
            "2644         0                700  \n",
            "3375       750                250  \n",
            "...        ...                ...  \n",
            "2122      3250               1121  \n",
            "6224       380                 92  \n",
            "2393         0                  0  \n",
            "8357       525                  6  \n",
            "2316       383                 43  \n",
            "\n",
            "[4709 rows x 9 columns]\n",
            "\n",
            "\n",
            "Labels from training dataset:\n",
            " 7212    12000\n",
            "2211      885\n",
            "4147     3076\n",
            "2644     4600\n",
            "3375     4000\n",
            "        ...  \n",
            "2122    13000\n",
            "6224     1290\n",
            "2393      900\n",
            "8357     1360\n",
            "2316     1500\n",
            "Name: rent amount (R$), Length: 4709, dtype: int64\n"
          ]
        }
      ],
      "source": [
        "\n",
        "print(f'Training dataset:\\n {x_training_dataset}')\n",
        "print(f'\\n\\nLabels from training dataset:\\n {y_training_dataset}')"
      ]
    },
    {
      "cell_type": "markdown",
      "metadata": {
        "id": "Q5AZp3MdYL_L"
      },
      "source": [
        "### Selecting best features\n",
        "\n",
        "We do this to find some feature no helping, with 0 weight on the ML model. We'll be using `sklearn.feature_selection` lib.\n",
        "\n",
        "\n",
        "Note that, we already know that **rooms**, **bathroom**, and **parking spaces** columns are good for our ML model."
      ]
    },
    {
      "cell_type": "code",
      "execution_count": 155,
      "metadata": {
        "id": "xYw155uGX20h"
      },
      "outputs": [],
      "source": [
        "from sklearn.feature_selection import mutual_info_regression\n",
        "from sklearn.feature_selection import SelectKBest"
      ]
    },
    {
      "cell_type": "markdown",
      "metadata": {
        "id": "CEUHryHFqNdV"
      },
      "source": [
        "It uses a model to check if there are features dependent to `y_training_set` (predictor)."
      ]
    },
    {
      "cell_type": "code",
      "execution_count": 156,
      "metadata": {
        "id": "Os9Dp0GjcQ7P"
      },
      "outputs": [],
      "source": [
        "def select_features( x_training_dataset, y_training_dataset ):\n",
        "  \n",
        "  selection = SelectKBest( score_func=mutual_info_regression, k='all')\n",
        "  selection.fit(x_training_dataset, y_training_dataset)\n",
        "  return selection"
      ]
    },
    {
      "cell_type": "code",
      "execution_count": 157,
      "metadata": {
        "id": "q3-d0SsJknXl"
      },
      "outputs": [],
      "source": [
        "Scores = select_features( x_training_dataset, y_training_dataset )"
      ]
    },
    {
      "cell_type": "markdown",
      "metadata": {
        "id": "Wm1bVUkBqnIU"
      },
      "source": [
        "When a feature has score 0, it means this feature doesn't influency to predict our `Y`.  "
      ]
    },
    {
      "cell_type": "code",
      "execution_count": 158,
      "metadata": {
        "colab": {
          "base_uri": "https://localhost:8080/"
        },
        "id": "cWvSF7bPlBU7",
        "outputId": "2accf540-7e98-43ac-9019-7ae04e789399"
      },
      "outputs": [
        {
          "name": "stdout",
          "output_type": "stream",
          "text": [
            "area ==> [0.063156842700415]\n",
            "rooms ==> [0.2641128727912463]\n",
            "bathroom ==> [0.3033279166740259]\n",
            "parking spaces ==> [0.24460628594738898]\n",
            "floor ==> [0.016125757512408523]\n",
            "animal ==> [0.022147998232248778]\n",
            "furniture ==> [0.02561780977020911]\n",
            "hoa (R$) ==> [0.048733432208152294]\n",
            "property tax (R$) ==> [0.16721788915546032]\n"
          ]
        }
      ],
      "source": [
        "for position, score in enumerate(Scores.scores_):\n",
        "  print( f\"{x_training_dataset.columns[position]} ==> [{score}]\" )"
      ]
    },
    {
      "cell_type": "markdown",
      "metadata": {
        "id": "Uwt4qmOcrUTz"
      },
      "source": [
        "As we already know it, **bathroom**, **rooms**, and **parking spaces** have great impact to predict on your model. But, **property tax** also appears as a important feature. "
      ]
    },
    {
      "cell_type": "markdown",
      "metadata": {
        "id": "qYG1h5qxwv2A"
      },
      "source": [
        "## **Building ML model**\n",
        "\n",
        "We'll be using **Random Forest** algorithm. It an ensemble learning method.\n",
        "\n",
        "It consists of a large number of individual decision trees that operate as an ensemble. Each individual tree in the random forest spits out a class prediction and the class with the most votes becomes our model’s prediction."
      ]
    },
    {
      "cell_type": "code",
      "execution_count": 159,
      "metadata": {
        "id": "HZNPNI3WyVdw"
      },
      "outputs": [],
      "source": [
        "from sklearn.ensemble import RandomForestRegressor"
      ]
    },
    {
      "cell_type": "markdown",
      "metadata": {
        "id": "4cElRYvVz09K"
      },
      "source": [
        "### Training the model"
      ]
    },
    {
      "cell_type": "code",
      "execution_count": 160,
      "metadata": {
        "colab": {
          "base_uri": "https://localhost:8080/"
        },
        "id": "aEZ4yZl9yuPC",
        "outputId": "82612e4e-0bf4-48cc-d9a3-45f1693b094f"
      },
      "outputs": [
        {
          "data": {
            "text/html": [
              "<style>#sk-container-id-2 {color: black;background-color: white;}#sk-container-id-2 pre{padding: 0;}#sk-container-id-2 div.sk-toggleable {background-color: white;}#sk-container-id-2 label.sk-toggleable__label {cursor: pointer;display: block;width: 100%;margin-bottom: 0;padding: 0.3em;box-sizing: border-box;text-align: center;}#sk-container-id-2 label.sk-toggleable__label-arrow:before {content: \"▸\";float: left;margin-right: 0.25em;color: #696969;}#sk-container-id-2 label.sk-toggleable__label-arrow:hover:before {color: black;}#sk-container-id-2 div.sk-estimator:hover label.sk-toggleable__label-arrow:before {color: black;}#sk-container-id-2 div.sk-toggleable__content {max-height: 0;max-width: 0;overflow: hidden;text-align: left;background-color: #f0f8ff;}#sk-container-id-2 div.sk-toggleable__content pre {margin: 0.2em;color: black;border-radius: 0.25em;background-color: #f0f8ff;}#sk-container-id-2 input.sk-toggleable__control:checked~div.sk-toggleable__content {max-height: 200px;max-width: 100%;overflow: auto;}#sk-container-id-2 input.sk-toggleable__control:checked~label.sk-toggleable__label-arrow:before {content: \"▾\";}#sk-container-id-2 div.sk-estimator input.sk-toggleable__control:checked~label.sk-toggleable__label {background-color: #d4ebff;}#sk-container-id-2 div.sk-label input.sk-toggleable__control:checked~label.sk-toggleable__label {background-color: #d4ebff;}#sk-container-id-2 input.sk-hidden--visually {border: 0;clip: rect(1px 1px 1px 1px);clip: rect(1px, 1px, 1px, 1px);height: 1px;margin: -1px;overflow: hidden;padding: 0;position: absolute;width: 1px;}#sk-container-id-2 div.sk-estimator {font-family: monospace;background-color: #f0f8ff;border: 1px dotted black;border-radius: 0.25em;box-sizing: border-box;margin-bottom: 0.5em;}#sk-container-id-2 div.sk-estimator:hover {background-color: #d4ebff;}#sk-container-id-2 div.sk-parallel-item::after {content: \"\";width: 100%;border-bottom: 1px solid gray;flex-grow: 1;}#sk-container-id-2 div.sk-label:hover label.sk-toggleable__label {background-color: #d4ebff;}#sk-container-id-2 div.sk-serial::before {content: \"\";position: absolute;border-left: 1px solid gray;box-sizing: border-box;top: 0;bottom: 0;left: 50%;z-index: 0;}#sk-container-id-2 div.sk-serial {display: flex;flex-direction: column;align-items: center;background-color: white;padding-right: 0.2em;padding-left: 0.2em;position: relative;}#sk-container-id-2 div.sk-item {position: relative;z-index: 1;}#sk-container-id-2 div.sk-parallel {display: flex;align-items: stretch;justify-content: center;background-color: white;position: relative;}#sk-container-id-2 div.sk-item::before, #sk-container-id-2 div.sk-parallel-item::before {content: \"\";position: absolute;border-left: 1px solid gray;box-sizing: border-box;top: 0;bottom: 0;left: 50%;z-index: -1;}#sk-container-id-2 div.sk-parallel-item {display: flex;flex-direction: column;z-index: 1;position: relative;background-color: white;}#sk-container-id-2 div.sk-parallel-item:first-child::after {align-self: flex-end;width: 50%;}#sk-container-id-2 div.sk-parallel-item:last-child::after {align-self: flex-start;width: 50%;}#sk-container-id-2 div.sk-parallel-item:only-child::after {width: 0;}#sk-container-id-2 div.sk-dashed-wrapped {border: 1px dashed gray;margin: 0 0.4em 0.5em 0.4em;box-sizing: border-box;padding-bottom: 0.4em;background-color: white;}#sk-container-id-2 div.sk-label label {font-family: monospace;font-weight: bold;display: inline-block;line-height: 1.2em;}#sk-container-id-2 div.sk-label-container {text-align: center;}#sk-container-id-2 div.sk-container {/* jupyter's `normalize.less` sets `[hidden] { display: none; }` but bootstrap.min.css set `[hidden] { display: none !important; }` so we also need the `!important` here to be able to override the default hidden behavior on the sphinx rendered scikit-learn.org. See: https://github.com/scikit-learn/scikit-learn/issues/21755 */display: inline-block !important;position: relative;}#sk-container-id-2 div.sk-text-repr-fallback {display: none;}</style><div id=\"sk-container-id-2\" class=\"sk-top-container\"><div class=\"sk-text-repr-fallback\"><pre>RandomForestRegressor(max_depth=5)</pre><b>In a Jupyter environment, please rerun this cell to show the HTML representation or trust the notebook. <br />On GitHub, the HTML representation is unable to render, please try loading this page with nbviewer.org.</b></div><div class=\"sk-container\" hidden><div class=\"sk-item\"><div class=\"sk-estimator sk-toggleable\"><input class=\"sk-toggleable__control sk-hidden--visually\" id=\"sk-estimator-id-2\" type=\"checkbox\" checked><label for=\"sk-estimator-id-2\" class=\"sk-toggleable__label sk-toggleable__label-arrow\">RandomForestRegressor</label><div class=\"sk-toggleable__content\"><pre>RandomForestRegressor(max_depth=5)</pre></div></div></div></div></div>"
            ],
            "text/plain": [
              "RandomForestRegressor(max_depth=5)"
            ]
          },
          "execution_count": 160,
          "metadata": {},
          "output_type": "execute_result"
        }
      ],
      "source": [
        "model_random_forest = RandomForestRegressor( max_depth=5 ) \n",
        "model_random_forest.fit( x_training_dataset, y_training_dataset )"
      ]
    },
    {
      "cell_type": "markdown",
      "metadata": {
        "id": "MQPOEUS9z-Cg"
      },
      "source": [
        "## **Evaluation in the model performance**\n",
        "\n",
        "We'll be starting using manual analysis."
      ]
    },
    {
      "cell_type": "code",
      "execution_count": 161,
      "metadata": {
        "id": "JauZubYU0XkL"
      },
      "outputs": [],
      "source": [
        "predictions = model_random_forest.predict( x_test_dataset )"
      ]
    },
    {
      "cell_type": "code",
      "execution_count": 162,
      "metadata": {
        "colab": {
          "base_uri": "https://localhost:8080/"
        },
        "id": "MBMUjEq246nQ",
        "outputId": "8fa83dbb-f7c0-4a6f-feb8-e46f884a1dfc"
      },
      "outputs": [
        {
          "name": "stdout",
          "output_type": "stream",
          "text": [
            "Five predicted rents: [1543.92116856 8878.33047925 7796.68707867 5120.50278401 3504.40631264\n",
            " 4127.42441034 6583.24216246 1525.93829091 7440.06706065 6170.56164562]\n"
          ]
        }
      ],
      "source": [
        "print(f'Five predicted rents: {predictions[0:10]}')"
      ]
    },
    {
      "cell_type": "markdown",
      "metadata": {
        "id": "wD8sv-5F7zpt"
      },
      "source": [
        "We'll compare our predicted values to our y test dataset."
      ]
    },
    {
      "cell_type": "code",
      "execution_count": 163,
      "metadata": {
        "colab": {
          "base_uri": "https://localhost:8080/"
        },
        "id": "Pg-_m2s98DqB",
        "outputId": "cef2a08f-99af-4ada-e6c3-c9b07c84445c"
      },
      "outputs": [
        {
          "data": {
            "text/plain": [
              "9659      1000\n",
              "4671     15000\n",
              "7122      6900\n",
              "4221      3000\n",
              "8920      2000\n",
              "5076      3810\n",
              "10151     6500\n",
              "832       1150\n",
              "3031      9000\n",
              "8674      1965\n",
              "Name: rent amount (R$), dtype: int64"
            ]
          },
          "execution_count": 163,
          "metadata": {},
          "output_type": "execute_result"
        }
      ],
      "source": [
        "y_test_dataset.head(10)"
      ]
    },
    {
      "cell_type": "markdown",
      "metadata": {
        "id": "jbzqXoMP8wCX"
      },
      "source": [
        "After we analyzed the first 10 lines, we identify similarities. For example, our model predicted `R$7853,13` when it should be `R$6900,00`."
      ]
    },
    {
      "cell_type": "markdown",
      "metadata": {
        "id": "X16Hz9jx-gPE"
      },
      "source": [
        "### Evaluting in the model perfomance  (v2)\n",
        "\n",
        "* We could use  `mean_squared_error` method to evaluate how much our model is failing to predict, based on *Variance*. \n",
        "\n",
        "* On the other hand, `r2_score` method (*Coefficient of Determination*) refers to check how well-observed results are reproduced by the model. The range is between 0 and 1."
      ]
    },
    {
      "cell_type": "code",
      "execution_count": 164,
      "metadata": {
        "id": "zbI1B4N--lLL"
      },
      "outputs": [],
      "source": [
        "from sklearn.metrics import mean_squared_error, r2_score\n",
        "from math import sqrt"
      ]
    },
    {
      "cell_type": "code",
      "execution_count": 165,
      "metadata": {
        "colab": {
          "base_uri": "https://localhost:8080/"
        },
        "id": "ZtT5SM3vGz04",
        "outputId": "44e74e7d-3dc8-4a9e-dd6c-a387b4bee968"
      },
      "outputs": [
        {
          "name": "stdout",
          "output_type": "stream",
          "text": [
            "RSME: 2463.541490636181\n"
          ]
        }
      ],
      "source": [
        "print(f'RSME: { sqrt(mean_squared_error(y_test_dataset, predictions)) }')"
      ]
    },
    {
      "cell_type": "markdown",
      "metadata": {
        "id": "H4Fr73GYHSsV"
      },
      "source": [
        "It means we'll have an error of `R$2460,00` predicting the rent value in general."
      ]
    },
    {
      "cell_type": "code",
      "execution_count": 166,
      "metadata": {
        "colab": {
          "base_uri": "https://localhost:8080/"
        },
        "id": "l1B2JSqyIZCB",
        "outputId": "b792ff37-619a-437d-9f51-cfaceb608497"
      },
      "outputs": [
        {
          "name": "stdout",
          "output_type": "stream",
          "text": [
            "Score: 0.5607503337511135\n"
          ]
        }
      ],
      "source": [
        "print(f'Score: {r2_score(y_test_dataset, predictions)}')"
      ]
    },
    {
      "cell_type": "markdown",
      "metadata": {
        "id": "FtSDEhUbItuy"
      },
      "source": [
        "That means our model is not very good."
      ]
    },
    {
      "cell_type": "markdown",
      "metadata": {
        "id": "CQ9OI3_gJRnZ"
      },
      "source": [
        "### Evaluting in the model perfomance  (v3)\n",
        "\n",
        "It's using **Yellowbrick** lib, `PredictionError`."
      ]
    },
    {
      "cell_type": "code",
      "execution_count": 167,
      "metadata": {
        "id": "nJzBBZ62KCPN"
      },
      "outputs": [],
      "source": [
        "from yellowbrick.regressor import PredictionError"
      ]
    },
    {
      "cell_type": "markdown",
      "metadata": {
        "id": "Jpb0b93dKaf6"
      },
      "source": [
        "We have to present which model is be using. In our case, it Random Forest."
      ]
    },
    {
      "cell_type": "code",
      "execution_count": 168,
      "metadata": {
        "colab": {
          "base_uri": "https://localhost:8080/",
          "height": 395
        },
        "id": "NCzMOTwNLHva",
        "outputId": "5f9a291b-abe7-4ca1-e090-3341e7c7deb4"
      },
      "outputs": [
        {
          "data": {
            "image/png": "[encoded data removed]",
            "text/plain": [
              "<Figure size 1500x600 with 1 Axes>"
            ]
          },
          "metadata": {},
          "output_type": "display_data"
        },
        {
          "data": {
            "text/plain": [
              "<matplotlib.axes._subplots.AxesSubplot at 0x7ff25b703340>"
            ]
          },
          "execution_count": 168,
          "metadata": {},
          "output_type": "execute_result"
        }
      ],
      "source": [
        "model = RandomForestRegressor( max_depth=5 ) \n",
        "error_model = PredictionError( model )\n",
        "\n",
        "error_model.fit(x_training_dataset, y_training_dataset)\n",
        "error_model.score(x_test_dataset, y_test_dataset)\n",
        "error_model.show()"
      ]
    },
    {
      "cell_type": "markdown",
      "metadata": {
        "id": "R_iYJswIMb0h"
      },
      "source": [
        "It's predicted rent value vs real rent value.\n",
        "\n",
        "The identity is the best possible case, while best fit refers to our model."
      ]
    },
    {
      "cell_type": "markdown",
      "metadata": {
        "id": "ktc7wMfhNVbf"
      },
      "source": [
        "## Exporting the ML model\n",
        "\n",
        "We'll be using  the `dump` method from **joblib** library to dumping the model. We could use `load` to load the model and then `predict` as much as we want."
      ]
    },
    {
      "cell_type": "code",
      "execution_count": 169,
      "metadata": {
        "id": "RXYT3w3pN6JY"
      },
      "outputs": [],
      "source": [
        "import joblib"
      ]
    },
    {
      "cell_type": "code",
      "execution_count": 170,
      "metadata": {
        "colab": {
          "base_uri": "https://localhost:8080/"
        },
        "id": "Afl3bfBnOEtP",
        "outputId": "f463d877-ac0f-4a8d-ddb8-e7383cbaa74f"
      },
      "outputs": [
        {
          "data": {
            "text/plain": [
              "['model_random_forest_v100.pkl']"
            ]
          },
          "execution_count": 170,
          "metadata": {},
          "output_type": "execute_result"
        }
      ],
      "source": [
        "joblib.dump(model_random_forest, \"model_random_forest_v100.pkl\")"
      ]
    },
    {
      "cell_type": "markdown",
      "metadata": {
        "id": "Ow-g6iW4q_em"
      },
      "source": [
        "## **How much is your house worth?**\n",
        "\n",
        "\n",
        "We will try to find out the answer based on our ML model\n"
      ]
    }
  ],
  "metadata": {
    "colab": {
      "authorship_tag": "ABX9TyOdsY9CUVKJrlZL/UlARLF3",
      "collapsed_sections": [
        "4w12r4O2ixxD",
        "00B__gMdi6TQ",
        "4KDbGdZplfhi",
        "aSBSPUMEr2Im",
        "-p0OVaxKtwTJ",
        "2F0QbZY7ugZg",
        "5AD4gqdQxMaD",
        "BhSXklzp0j68"
      ],
      "include_colab_link": true,
      "mount_file_id": "1-R86sW9Nc8z_dsfe8KZKSrITqLdYwAkg",
      "provenance": []
    },
    "kernelspec": {
      "display_name": "Python 3.8.10 64-bit",
      "language": "python",
      "name": "python3"
    },
    "language_info": {
      "codemirror_mode": {
        "name": "ipython",
        "version": 3
      },
      "file_extension": ".py",
      "mimetype": "text/x-python",
      "name": "python",
      "nbconvert_exporter": "python",
      "pygments_lexer": "ipython3",
      "version": "3.8.10"
    },
    "vscode": {
      "interpreter": {
        "hash": "916dbcbb3f70747c44a77c7bcd40155683ae19c65e1c03b4aa3499c5328201f1"
      }
    }
  },
  "nbformat": 4,
  "nbformat_minor": 0
}
